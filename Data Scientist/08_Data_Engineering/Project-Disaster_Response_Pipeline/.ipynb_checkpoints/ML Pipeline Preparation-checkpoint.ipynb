{
 "cells": [
  {
   "cell_type": "markdown",
   "metadata": {},
   "source": [
    "# ML Pipeline Preparation\n",
    "Follow the instructions below to help you create your ML pipeline.\n",
    "### 1. Import libraries and load data from database.\n",
    "- Import Python libraries\n",
    "- Load dataset from database with [`read_sql_table`](https://pandas.pydata.org/pandas-docs/stable/generated/pandas.read_sql_table.html)\n",
    "- Define feature and target variables X and Y"
   ]
  },
  {
   "cell_type": "code",
   "execution_count": 1,
   "metadata": {},
   "outputs": [
    {
     "name": "stdout",
     "output_type": "stream",
     "text": [
      "[nltk_data] Downloading package punkt to\n",
      "[nltk_data]     /Users/soohyeonkim/nltk_data...\n",
      "[nltk_data]   Package punkt is already up-to-date!\n",
      "[nltk_data] Downloading package wordnet to\n",
      "[nltk_data]     /Users/soohyeonkim/nltk_data...\n",
      "[nltk_data]   Package wordnet is already up-to-date!\n",
      "[nltk_data] Downloading package stopwords to\n",
      "[nltk_data]     /Users/soohyeonkim/nltk_data...\n",
      "[nltk_data]   Package stopwords is already up-to-date!\n"
     ]
    }
   ],
   "source": [
    "# import libraries\n",
    "import re\n",
    "import numpy as np\n",
    "import pandas as pd\n",
    "import pickle\n",
    "import nltk\n",
    "nltk.download(['punkt', 'wordnet', 'stopwords'])\n",
    "from nltk.corpus import stopwords\n",
    "from nltk.tokenize import word_tokenize\n",
    "from nltk.stem import WordNetLemmatizer\n",
    "from sqlalchemy import create_engine\n",
    "\n",
    "from sklearn.model_selection import GridSearchCV\n",
    "from sklearn.ensemble import RandomForestClassifier, AdaBoostClassifier\n",
    "from sklearn.model_selection import train_test_split\n",
    "from sklearn.pipeline import Pipeline\n",
    "from sklearn.feature_extraction.text import CountVectorizer, TfidfTransformer, TfidfVectorizer\n",
    "from sklearn.multioutput import MultiOutputClassifier\n",
    "from sklearn.metrics import precision_recall_fscore_support\n",
    "import warnings\n",
    "warnings.filterwarnings(\"ignore\")"
   ]
  },
  {
   "cell_type": "code",
   "execution_count": 2,
   "metadata": {},
   "outputs": [
    {
     "data": {
      "text/html": [
       "<div>\n",
       "<style scoped>\n",
       "    .dataframe tbody tr th:only-of-type {\n",
       "        vertical-align: middle;\n",
       "    }\n",
       "\n",
       "    .dataframe tbody tr th {\n",
       "        vertical-align: top;\n",
       "    }\n",
       "\n",
       "    .dataframe thead th {\n",
       "        text-align: right;\n",
       "    }\n",
       "</style>\n",
       "<table border=\"1\" class=\"dataframe\">\n",
       "  <thead>\n",
       "    <tr style=\"text-align: right;\">\n",
       "      <th></th>\n",
       "      <th>id</th>\n",
       "      <th>message</th>\n",
       "      <th>original</th>\n",
       "      <th>genre</th>\n",
       "      <th>related</th>\n",
       "      <th>request</th>\n",
       "      <th>offer</th>\n",
       "      <th>aid_related</th>\n",
       "      <th>medical_help</th>\n",
       "      <th>medical_products</th>\n",
       "      <th>...</th>\n",
       "      <th>aid_centers</th>\n",
       "      <th>other_infrastructure</th>\n",
       "      <th>weather_related</th>\n",
       "      <th>floods</th>\n",
       "      <th>storm</th>\n",
       "      <th>fire</th>\n",
       "      <th>earthquake</th>\n",
       "      <th>cold</th>\n",
       "      <th>other_weather</th>\n",
       "      <th>direct_report</th>\n",
       "    </tr>\n",
       "  </thead>\n",
       "  <tbody>\n",
       "    <tr>\n",
       "      <th>0</th>\n",
       "      <td>2</td>\n",
       "      <td>Weather update - a cold front from Cuba that c...</td>\n",
       "      <td>Un front froid se retrouve sur Cuba ce matin. ...</td>\n",
       "      <td>direct</td>\n",
       "      <td>1</td>\n",
       "      <td>0</td>\n",
       "      <td>0</td>\n",
       "      <td>0</td>\n",
       "      <td>0</td>\n",
       "      <td>0</td>\n",
       "      <td>...</td>\n",
       "      <td>0</td>\n",
       "      <td>0</td>\n",
       "      <td>0</td>\n",
       "      <td>0</td>\n",
       "      <td>0</td>\n",
       "      <td>0</td>\n",
       "      <td>0</td>\n",
       "      <td>0</td>\n",
       "      <td>0</td>\n",
       "      <td>0</td>\n",
       "    </tr>\n",
       "    <tr>\n",
       "      <th>1</th>\n",
       "      <td>7</td>\n",
       "      <td>Is the Hurricane over or is it not over</td>\n",
       "      <td>Cyclone nan fini osinon li pa fini</td>\n",
       "      <td>direct</td>\n",
       "      <td>1</td>\n",
       "      <td>0</td>\n",
       "      <td>0</td>\n",
       "      <td>1</td>\n",
       "      <td>0</td>\n",
       "      <td>0</td>\n",
       "      <td>...</td>\n",
       "      <td>0</td>\n",
       "      <td>0</td>\n",
       "      <td>1</td>\n",
       "      <td>0</td>\n",
       "      <td>1</td>\n",
       "      <td>0</td>\n",
       "      <td>0</td>\n",
       "      <td>0</td>\n",
       "      <td>0</td>\n",
       "      <td>0</td>\n",
       "    </tr>\n",
       "    <tr>\n",
       "      <th>2</th>\n",
       "      <td>8</td>\n",
       "      <td>Looking for someone but no name</td>\n",
       "      <td>Patnm, di Maryani relem pou li banm nouvel li ...</td>\n",
       "      <td>direct</td>\n",
       "      <td>1</td>\n",
       "      <td>0</td>\n",
       "      <td>0</td>\n",
       "      <td>0</td>\n",
       "      <td>0</td>\n",
       "      <td>0</td>\n",
       "      <td>...</td>\n",
       "      <td>0</td>\n",
       "      <td>0</td>\n",
       "      <td>0</td>\n",
       "      <td>0</td>\n",
       "      <td>0</td>\n",
       "      <td>0</td>\n",
       "      <td>0</td>\n",
       "      <td>0</td>\n",
       "      <td>0</td>\n",
       "      <td>0</td>\n",
       "    </tr>\n",
       "    <tr>\n",
       "      <th>3</th>\n",
       "      <td>9</td>\n",
       "      <td>UN reports Leogane 80-90 destroyed. Only Hospi...</td>\n",
       "      <td>UN reports Leogane 80-90 destroyed. Only Hospi...</td>\n",
       "      <td>direct</td>\n",
       "      <td>1</td>\n",
       "      <td>1</td>\n",
       "      <td>0</td>\n",
       "      <td>1</td>\n",
       "      <td>0</td>\n",
       "      <td>1</td>\n",
       "      <td>...</td>\n",
       "      <td>0</td>\n",
       "      <td>0</td>\n",
       "      <td>0</td>\n",
       "      <td>0</td>\n",
       "      <td>0</td>\n",
       "      <td>0</td>\n",
       "      <td>0</td>\n",
       "      <td>0</td>\n",
       "      <td>0</td>\n",
       "      <td>0</td>\n",
       "    </tr>\n",
       "    <tr>\n",
       "      <th>4</th>\n",
       "      <td>12</td>\n",
       "      <td>says: west side of Haiti, rest of the country ...</td>\n",
       "      <td>facade ouest d Haiti et le reste du pays aujou...</td>\n",
       "      <td>direct</td>\n",
       "      <td>1</td>\n",
       "      <td>0</td>\n",
       "      <td>0</td>\n",
       "      <td>0</td>\n",
       "      <td>0</td>\n",
       "      <td>0</td>\n",
       "      <td>...</td>\n",
       "      <td>0</td>\n",
       "      <td>0</td>\n",
       "      <td>0</td>\n",
       "      <td>0</td>\n",
       "      <td>0</td>\n",
       "      <td>0</td>\n",
       "      <td>0</td>\n",
       "      <td>0</td>\n",
       "      <td>0</td>\n",
       "      <td>0</td>\n",
       "    </tr>\n",
       "  </tbody>\n",
       "</table>\n",
       "<p>5 rows × 40 columns</p>\n",
       "</div>"
      ],
      "text/plain": [
       "   id                                            message  \\\n",
       "0   2  Weather update - a cold front from Cuba that c...   \n",
       "1   7            Is the Hurricane over or is it not over   \n",
       "2   8                    Looking for someone but no name   \n",
       "3   9  UN reports Leogane 80-90 destroyed. Only Hospi...   \n",
       "4  12  says: west side of Haiti, rest of the country ...   \n",
       "\n",
       "                                            original   genre  related  \\\n",
       "0  Un front froid se retrouve sur Cuba ce matin. ...  direct        1   \n",
       "1                 Cyclone nan fini osinon li pa fini  direct        1   \n",
       "2  Patnm, di Maryani relem pou li banm nouvel li ...  direct        1   \n",
       "3  UN reports Leogane 80-90 destroyed. Only Hospi...  direct        1   \n",
       "4  facade ouest d Haiti et le reste du pays aujou...  direct        1   \n",
       "\n",
       "   request  offer  aid_related  medical_help  medical_products      ...        \\\n",
       "0        0      0            0             0                 0      ...         \n",
       "1        0      0            1             0                 0      ...         \n",
       "2        0      0            0             0                 0      ...         \n",
       "3        1      0            1             0                 1      ...         \n",
       "4        0      0            0             0                 0      ...         \n",
       "\n",
       "   aid_centers  other_infrastructure  weather_related  floods  storm  fire  \\\n",
       "0            0                     0                0       0      0     0   \n",
       "1            0                     0                1       0      1     0   \n",
       "2            0                     0                0       0      0     0   \n",
       "3            0                     0                0       0      0     0   \n",
       "4            0                     0                0       0      0     0   \n",
       "\n",
       "   earthquake  cold  other_weather  direct_report  \n",
       "0           0     0              0              0  \n",
       "1           0     0              0              0  \n",
       "2           0     0              0              0  \n",
       "3           0     0              0              0  \n",
       "4           0     0              0              0  \n",
       "\n",
       "[5 rows x 40 columns]"
      ]
     },
     "execution_count": 2,
     "metadata": {},
     "output_type": "execute_result"
    }
   ],
   "source": [
    "# load data from database\n",
    "engine = create_engine('sqlite:///FigureEight_ETL.db')\n",
    "df = pd.read_sql(\"FigureEight_ETL\", con=engine)\n",
    "df.head()"
   ]
  },
  {
   "cell_type": "code",
   "execution_count": 3,
   "metadata": {},
   "outputs": [
    {
     "data": {
      "text/plain": [
       "((26216,), (26216, 36))"
      ]
     },
     "execution_count": 3,
     "metadata": {},
     "output_type": "execute_result"
    }
   ],
   "source": [
    "## Define feature and target variables X and Y\n",
    "X = df['message'].values\n",
    "## define classes names\n",
    "categories = df.columns[4:].values\n",
    "Y = df[categories].values\n",
    "X.shape, Y.shape"
   ]
  },
  {
   "cell_type": "markdown",
   "metadata": {},
   "source": [
    "### 2. Write a tokenization function to process your text data"
   ]
  },
  {
   "cell_type": "code",
   "execution_count": 4,
   "metadata": {},
   "outputs": [],
   "source": [
    "def tokenize(text):\n",
    "    \"\"\"\n",
    "    Normalize, tokenize, lemmatize, clean texts\n",
    "    \n",
    "    > Parameters:\n",
    "    text: raw text\n",
    "    \n",
    "    > Returns:\n",
    "    clean_tokens: tokens that went through aformentioned procedures\n",
    "    \"\"\"\n",
    "    \n",
    "    text = re.sub(r\"[^a-zA-Z0-9]\", \" \", text.lower())\n",
    "    tokens = word_tokenize(text)\n",
    "    lemmatizer = WordNetLemmatizer()\n",
    "\n",
    "    clean_tokens = []\n",
    "    for tok in tokens:\n",
    "        clean_tok = lemmatizer.lemmatize(tok).lower().strip()\n",
    "        clean_tokens.append(clean_tok)\n",
    "    return clean_tokens"
   ]
  },
  {
   "cell_type": "markdown",
   "metadata": {},
   "source": [
    "### 3. Build a machine learning pipeline\n",
    "This machine pipeline should take in the `message` column as input and output classification results on the other 36 categories in the dataset. You may find the [MultiOutputClassifier](http://scikit-learn.org/stable/modules/generated/sklearn.multioutput.MultiOutputClassifier.html) helpful for predicting multiple target variables."
   ]
  },
  {
   "cell_type": "code",
   "execution_count": 5,
   "metadata": {},
   "outputs": [],
   "source": [
    "## get stopwords ready\n",
    "stopwords = tokenize(\" \".join(stopwords.words('english')))\n",
    "stopwords.extend([str(i) for i in range(0, 1000)])\n",
    "stopwords.extend(['000'])\n",
    "\n",
    "## define random forest pipeline\n",
    "rfc_pipe = Pipeline([\n",
    "        ('vect', CountVectorizer(tokenizer=tokenize, stop_words=stopwords)),\n",
    "        ('tfidf', TfidfTransformer()),\n",
    "        ('rfc', MultiOutputClassifier(RandomForestClassifier(n_estimators=50, n_jobs=10, random_state=4999)))\n",
    "    ])"
   ]
  },
  {
   "cell_type": "markdown",
   "metadata": {},
   "source": [
    "### 4. Train pipeline\n",
    "- Split data into train and test sets\n",
    "- Train pipeline"
   ]
  },
  {
   "cell_type": "code",
   "execution_count": 6,
   "metadata": {},
   "outputs": [
    {
     "name": "stdout",
     "output_type": "stream",
     "text": [
      "CPU times: user 4min 38s, sys: 1.94 s, total: 4min 40s\n",
      "Wall time: 40.8 s\n"
     ]
    }
   ],
   "source": [
    "%%time\n",
    "## spliting train & test sets\n",
    "X_train, X_test, y_train, y_test = train_test_split(X, Y, test_size=0.25, random_state=1004)\n",
    "\n",
    "## fit pipeline classifier\n",
    "rfc_pipe.fit(X_train, y_train)\n",
    "y_pred = rfc_pipe.predict(X_test)"
   ]
  },
  {
   "cell_type": "markdown",
   "metadata": {},
   "source": [
    "### 5. Test your model\n",
    "Report the f1 score, precision and recall for each output category of the dataset. You can do this by iterating through the columns and calling sklearn's `classification_report` on each."
   ]
  },
  {
   "cell_type": "code",
   "execution_count": 7,
   "metadata": {},
   "outputs": [
    {
     "name": "stdout",
     "output_type": "stream",
     "text": [
      "                           Precision      Recall    F1_score     support\n",
      "                 related        0.81        0.81        0.81     4998.00\n",
      "                 request        0.89        0.89        0.89     1116.00\n",
      "                   offer        1.00        1.00        1.00       27.00\n",
      "             aid_related        0.78        0.78        0.78     2679.00\n",
      "            medical_help        0.92        0.92        0.92      530.00\n",
      "        medical_products        0.95        0.95        0.95      324.00\n",
      "       search_and_rescue        0.97        0.97        0.97      181.00\n",
      "                security        0.98        0.98        0.98      120.00\n",
      "                military        0.97        0.97        0.97      210.00\n",
      "             child_alone        1.00        1.00        1.00        0.00\n",
      "                   water        0.96        0.96        0.96      399.00\n",
      "                    food        0.95        0.95        0.95      702.00\n",
      "                 shelter        0.94        0.94        0.94      532.00\n",
      "                clothing        0.98        0.98        0.98      120.00\n",
      "                   money        0.98        0.98        0.98      156.00\n",
      "          missing_people        0.99        0.99        0.99       79.00\n",
      "                refugees        0.97        0.97        0.97      219.00\n",
      "                   death        0.96        0.96        0.96      288.00\n",
      "               other_aid        0.87        0.87        0.87      851.00\n",
      "  infrastructure_related        0.94        0.94        0.94      419.00\n",
      "               transport        0.95        0.95        0.95      322.00\n",
      "               buildings        0.96        0.96        0.96      309.00\n",
      "             electricity        0.98        0.98        0.98      137.00\n",
      "                   tools        0.99        0.99        0.99       40.00\n",
      "               hospitals        0.99        0.99        0.99       71.00\n",
      "                   shops        0.99        0.99        0.99       35.00\n",
      "             aid_centers        0.99        0.99        0.99       63.00\n",
      "    other_infrastructure        0.96        0.96        0.96      279.00\n",
      "         weather_related        0.88        0.88        0.88     1813.00\n",
      "                  floods        0.95        0.95        0.95      544.00\n",
      "                   storm        0.94        0.94        0.94      589.00\n",
      "                    fire        0.99        0.99        0.99       73.00\n",
      "              earthquake        0.97        0.97        0.97      614.00\n",
      "                    cold        0.98        0.98        0.98      127.00\n",
      "           other_weather        0.95        0.95        0.95      342.00\n",
      "           direct_report        0.85        0.85        0.85     1289.00\n"
     ]
    }
   ],
   "source": [
    "def multioutput_classification_report(y_true, y_pred):\n",
    "    \"\"\"\n",
    "    This is classification report for multioutput classifiers\n",
    "    \n",
    "    > Parameters:\n",
    "    y_true: true labels; numpy.ndarray\n",
    "    y_pred: predicted labels; numpy.ndarray\n",
    "    \n",
    "    > Returns: None\n",
    "    \"\"\"\n",
    "    \n",
    "    supports = y_true.sum(axis=0)\n",
    "    print(\"{:>24s}{:>12s}{:>12s}{:>12s}{:>12s}\".format('', 'Precision', 'Recall', 'F1_score', 'support'))\n",
    "    for i in range(0, y_true.shape[1]):\n",
    "        _ = precision_recall_fscore_support(y_true[:, i], y_pred[:, i], average='micro')\n",
    "        print(\"{:>24s}{:>12.2f}{:>12.2f}{:>12.2f}{:>12.2f}\".format(categories[i], _[0], _[1], _[2], supports[i]))\n",
    "        \n",
    "multioutput_classification_report(y_test, y_pred)"
   ]
  },
  {
   "cell_type": "markdown",
   "metadata": {},
   "source": [
    "### 6. Improve your model\n",
    "Use grid search to find better parameters. "
   ]
  },
  {
   "cell_type": "code",
   "execution_count": 8,
   "metadata": {},
   "outputs": [],
   "source": [
    "# rfc_pipe.get_params()"
   ]
  },
  {
   "cell_type": "code",
   "execution_count": 9,
   "metadata": {},
   "outputs": [],
   "source": [
    "parameters = {\n",
    "#     'vect__ngram_range': [(1, 1), (1, 2)],\n",
    "#     'vect__max_df': [0.8, 1.0],\n",
    "    'rfc__estimator__n_estimators': [30, 50]\n",
    "}\n",
    "\n",
    "cv = GridSearchCV(rfc_pipe, param_grid=parameters)"
   ]
  },
  {
   "cell_type": "code",
   "execution_count": 10,
   "metadata": {},
   "outputs": [
    {
     "name": "stdout",
     "output_type": "stream",
     "text": [
      "{'rfc__estimator__n_estimators': 50}\n",
      "CPU times: user 18min 12s, sys: 8.97 s, total: 18min 21s\n",
      "Wall time: 3min 35s\n"
     ]
    }
   ],
   "source": [
    "%%time\n",
    "cv.fit(X_train, y_train)\n",
    "\n",
    "print(cv.best_params_)"
   ]
  },
  {
   "cell_type": "markdown",
   "metadata": {},
   "source": [
    "### 7. Test your model\n",
    "Show the accuracy, precision, and recall of the tuned model.  \n",
    "\n",
    "Since this project focuses on code quality, process, and  pipelines, there is no minimum performance metric needed to pass. However, make sure to fine tune your models for accuracy, precision and recall to make your project stand out - especially for your portfolio!"
   ]
  },
  {
   "cell_type": "code",
   "execution_count": 11,
   "metadata": {},
   "outputs": [
    {
     "name": "stdout",
     "output_type": "stream",
     "text": [
      "                           Precision      Recall    F1_score     support\n",
      "                 related        0.81        0.81        0.81     4998.00\n",
      "                 request        0.89        0.89        0.89     1116.00\n",
      "                   offer        1.00        1.00        1.00       27.00\n",
      "             aid_related        0.78        0.78        0.78     2679.00\n",
      "            medical_help        0.92        0.92        0.92      530.00\n",
      "        medical_products        0.95        0.95        0.95      324.00\n",
      "       search_and_rescue        0.97        0.97        0.97      181.00\n",
      "                security        0.98        0.98        0.98      120.00\n",
      "                military        0.97        0.97        0.97      210.00\n",
      "             child_alone        1.00        1.00        1.00        0.00\n",
      "                   water        0.96        0.96        0.96      399.00\n",
      "                    food        0.95        0.95        0.95      702.00\n",
      "                 shelter        0.94        0.94        0.94      532.00\n",
      "                clothing        0.98        0.98        0.98      120.00\n",
      "                   money        0.98        0.98        0.98      156.00\n",
      "          missing_people        0.99        0.99        0.99       79.00\n",
      "                refugees        0.97        0.97        0.97      219.00\n",
      "                   death        0.96        0.96        0.96      288.00\n",
      "               other_aid        0.87        0.87        0.87      851.00\n",
      "  infrastructure_related        0.94        0.94        0.94      419.00\n",
      "               transport        0.95        0.95        0.95      322.00\n",
      "               buildings        0.96        0.96        0.96      309.00\n",
      "             electricity        0.98        0.98        0.98      137.00\n",
      "                   tools        0.99        0.99        0.99       40.00\n",
      "               hospitals        0.99        0.99        0.99       71.00\n",
      "                   shops        0.99        0.99        0.99       35.00\n",
      "             aid_centers        0.99        0.99        0.99       63.00\n",
      "    other_infrastructure        0.96        0.96        0.96      279.00\n",
      "         weather_related        0.88        0.88        0.88     1813.00\n",
      "                  floods        0.95        0.95        0.95      544.00\n",
      "                   storm        0.94        0.94        0.94      589.00\n",
      "                    fire        0.99        0.99        0.99       73.00\n",
      "              earthquake        0.97        0.97        0.97      614.00\n",
      "                    cold        0.98        0.98        0.98      127.00\n",
      "           other_weather        0.95        0.95        0.95      342.00\n",
      "           direct_report        0.85        0.85        0.85     1289.00\n"
     ]
    }
   ],
   "source": [
    "y_pred = cv.predict(X_test)\n",
    "multioutput_classification_report(y_test, y_pred)"
   ]
  },
  {
   "cell_type": "markdown",
   "metadata": {},
   "source": [
    "### 8. Try improving your model further. Here are a few ideas:\n",
    "* try other machine learning algorithms\n",
    "* add other features besides the TF-IDF"
   ]
  },
  {
   "cell_type": "code",
   "execution_count": 12,
   "metadata": {},
   "outputs": [
    {
     "name": "stdout",
     "output_type": "stream",
     "text": [
      "{'abc__estimator__learning_rate': 0.5}\n",
      "CPU times: user 14min 55s, sys: 5.78 s, total: 15min\n",
      "Wall time: 5min 16s\n"
     ]
    }
   ],
   "source": [
    "%%time\n",
    "## adaboost pipeline\n",
    "abc_pipe = Pipeline([\n",
    "        ('vect', CountVectorizer(tokenizer=tokenize, stop_words=stopwords)),\n",
    "        ('tfidf', TfidfTransformer()),\n",
    "        ('abc', MultiOutputClassifier(AdaBoostClassifier(n_estimators=50, random_state=9982)))\n",
    "    ])\n",
    "\n",
    "## parameters for adaboost pipeline\n",
    "parameters_ada = {\n",
    "#     'vect__ngram_range': [(1, 1), (1, 2)],\n",
    "#     'vect__max_df': [0.8, 1.0],\n",
    "#     'abc__estimator__n_estimators': [25, 50],\n",
    "    'abc__estimator__learning_rate': [0.5, 1]\n",
    "}\n",
    "\n",
    "cv_ada = GridSearchCV(abc_pipe, param_grid=parameters_ada)\n",
    "cv_ada.fit(X_train, y_train)\n",
    "print(cv_ada.best_params_)"
   ]
  },
  {
   "cell_type": "code",
   "execution_count": 13,
   "metadata": {
    "scrolled": false
   },
   "outputs": [
    {
     "name": "stdout",
     "output_type": "stream",
     "text": [
      "                           Precision      Recall    F1_score     support\n",
      "                 related        0.76        0.76        0.76     4998.00\n",
      "                 request        0.89        0.89        0.89     1116.00\n",
      "                   offer        1.00        1.00        1.00       27.00\n",
      "             aid_related        0.75        0.75        0.75     2679.00\n",
      "            medical_help        0.93        0.93        0.93      530.00\n",
      "        medical_products        0.96        0.96        0.96      324.00\n",
      "       search_and_rescue        0.97        0.97        0.97      181.00\n",
      "                security        0.98        0.98        0.98      120.00\n",
      "                military        0.97        0.97        0.97      210.00\n",
      "             child_alone        1.00        1.00        1.00        0.00\n",
      "                   water        0.97        0.97        0.97      399.00\n",
      "                    food        0.95        0.95        0.95      702.00\n",
      "                 shelter        0.95        0.95        0.95      532.00\n",
      "                clothing        0.99        0.99        0.99      120.00\n",
      "                   money        0.98        0.98        0.98      156.00\n",
      "          missing_people        0.99        0.99        0.99       79.00\n",
      "                refugees        0.97        0.97        0.97      219.00\n",
      "                   death        0.97        0.97        0.97      288.00\n",
      "               other_aid        0.87        0.87        0.87      851.00\n",
      "  infrastructure_related        0.94        0.94        0.94      419.00\n",
      "               transport        0.96        0.96        0.96      322.00\n",
      "               buildings        0.96        0.96        0.96      309.00\n",
      "             electricity        0.98        0.98        0.98      137.00\n",
      "                   tools        0.99        0.99        0.99       40.00\n",
      "               hospitals        0.99        0.99        0.99       71.00\n",
      "                   shops        0.99        0.99        0.99       35.00\n",
      "             aid_centers        0.99        0.99        0.99       63.00\n",
      "    other_infrastructure        0.96        0.96        0.96      279.00\n",
      "         weather_related        0.87        0.87        0.87     1813.00\n",
      "                  floods        0.96        0.96        0.96      544.00\n",
      "                   storm        0.94        0.94        0.94      589.00\n",
      "                    fire        0.99        0.99        0.99       73.00\n",
      "              earthquake        0.97        0.97        0.97      614.00\n",
      "                    cold        0.98        0.98        0.98      127.00\n",
      "           other_weather        0.95        0.95        0.95      342.00\n",
      "           direct_report        0.85        0.85        0.85     1289.00\n"
     ]
    }
   ],
   "source": [
    "y_pred = cv_ada.predict(X_test)\n",
    "multioutput_classification_report(y_test, y_pred)"
   ]
  },
  {
   "cell_type": "markdown",
   "metadata": {},
   "source": [
    "### 9. Export your model as a pickle file"
   ]
  },
  {
   "cell_type": "code",
   "execution_count": 14,
   "metadata": {},
   "outputs": [],
   "source": [
    "import pickle\n",
    "with open('classifier.pkl', 'wb') as file:\n",
    "    pickle.dump(cv_ada, file)"
   ]
  },
  {
   "cell_type": "markdown",
   "metadata": {},
   "source": [
    "### 10. Use this notebook to complete `train.py`\n",
    "Use the template file attached in the Resources folder to write a script that runs the steps above to create a database and export a model based on a new dataset specified by the user."
   ]
  },
  {
   "cell_type": "code",
   "execution_count": 15,
   "metadata": {},
   "outputs": [],
   "source": [
    "## tfidf matrix to achieve important words\n",
    "tfidf = TfidfVectorizer(min_df=0.01, max_df=0.90, tokenizer=tokenize, stop_words=stopwords)\n",
    "vect = CountVectorizer(tokenizer=tokenize, stop_words=stopwords)\n",
    "tfidf.fit(X)\n",
    "vect.fit(X)\n",
    "\n",
    "tfidf_vocab = tfidf.vocabulary_\n",
    "vect_vocab = vect.vocabulary_\n",
    "\n",
    "## make tfidf dataframe - word & rank\n",
    "tfidf_df = pd.DataFrame.from_dict(tfidf_vocab, orient='index').reset_index()\n",
    "tfidf_df.columns = ['word', 'rank']\n",
    "\n",
    "## make count vectorizer dataframe - word & count\n",
    "vect_df = pd.DataFrame.from_dict(vect_vocab, orient='index').reset_index()\n",
    "vect_df.columns = ['word', 'count']\n",
    "\n",
    "## merge two dataframe in the order of count\n",
    "vocab_df = pd.merge(tfidf_df, vect_df, how='left', on=['word']).sort_values('count', ascending=False).reset_index(drop=True)\n",
    "vocab_df = vocab_df[['word', 'count']]"
   ]
  },
  {
   "cell_type": "code",
   "execution_count": 16,
   "metadata": {},
   "outputs": [
    {
     "data": {
      "text/html": [
       "<div>\n",
       "<style scoped>\n",
       "    .dataframe tbody tr th:only-of-type {\n",
       "        vertical-align: middle;\n",
       "    }\n",
       "\n",
       "    .dataframe tbody tr th {\n",
       "        vertical-align: top;\n",
       "    }\n",
       "\n",
       "    .dataframe thead th {\n",
       "        text-align: right;\n",
       "    }\n",
       "</style>\n",
       "<table border=\"1\" class=\"dataframe\">\n",
       "  <thead>\n",
       "    <tr style=\"text-align: right;\">\n",
       "      <th></th>\n",
       "      <th>word</th>\n",
       "      <th>count</th>\n",
       "    </tr>\n",
       "  </thead>\n",
       "  <tbody>\n",
       "    <tr>\n",
       "      <th>0</th>\n",
       "      <td>year</td>\n",
       "      <td>31038</td>\n",
       "    </tr>\n",
       "    <tr>\n",
       "      <th>1</th>\n",
       "      <td>would</td>\n",
       "      <td>30771</td>\n",
       "    </tr>\n",
       "    <tr>\n",
       "      <th>2</th>\n",
       "      <td>world</td>\n",
       "      <td>30743</td>\n",
       "    </tr>\n",
       "    <tr>\n",
       "      <th>3</th>\n",
       "      <td>working</td>\n",
       "      <td>30739</td>\n",
       "    </tr>\n",
       "    <tr>\n",
       "      <th>4</th>\n",
       "      <td>work</td>\n",
       "      <td>30733</td>\n",
       "    </tr>\n",
       "    <tr>\n",
       "      <th>5</th>\n",
       "      <td>woman</td>\n",
       "      <td>30699</td>\n",
       "    </tr>\n",
       "    <tr>\n",
       "      <th>6</th>\n",
       "      <td>without</td>\n",
       "      <td>30659</td>\n",
       "    </tr>\n",
       "    <tr>\n",
       "      <th>7</th>\n",
       "      <td>west</td>\n",
       "      <td>30423</td>\n",
       "    </tr>\n",
       "    <tr>\n",
       "      <th>8</th>\n",
       "      <td>well</td>\n",
       "      <td>30388</td>\n",
       "    </tr>\n",
       "    <tr>\n",
       "      <th>9</th>\n",
       "      <td>week</td>\n",
       "      <td>30361</td>\n",
       "    </tr>\n",
       "    <tr>\n",
       "      <th>10</th>\n",
       "      <td>weather</td>\n",
       "      <td>30339</td>\n",
       "    </tr>\n",
       "    <tr>\n",
       "      <th>11</th>\n",
       "      <td>way</td>\n",
       "      <td>30301</td>\n",
       "    </tr>\n",
       "    <tr>\n",
       "      <th>12</th>\n",
       "      <td>water</td>\n",
       "      <td>30258</td>\n",
       "    </tr>\n",
       "    <tr>\n",
       "      <th>13</th>\n",
       "      <td>want</td>\n",
       "      <td>30180</td>\n",
       "    </tr>\n",
       "    <tr>\n",
       "      <th>14</th>\n",
       "      <td>village</td>\n",
       "      <td>29893</td>\n",
       "    </tr>\n",
       "    <tr>\n",
       "      <th>15</th>\n",
       "      <td>victim</td>\n",
       "      <td>29840</td>\n",
       "    </tr>\n",
       "    <tr>\n",
       "      <th>16</th>\n",
       "      <td>united</td>\n",
       "      <td>29285</td>\n",
       "    </tr>\n",
       "    <tr>\n",
       "      <th>17</th>\n",
       "      <td>un</td>\n",
       "      <td>29042</td>\n",
       "    </tr>\n",
       "    <tr>\n",
       "      <th>18</th>\n",
       "      <td>u</td>\n",
       "      <td>28835</td>\n",
       "    </tr>\n",
       "    <tr>\n",
       "      <th>19</th>\n",
       "      <td>two</td>\n",
       "      <td>28809</td>\n",
       "    </tr>\n",
       "  </tbody>\n",
       "</table>\n",
       "</div>"
      ],
      "text/plain": [
       "       word  count\n",
       "0      year  31038\n",
       "1     would  30771\n",
       "2     world  30743\n",
       "3   working  30739\n",
       "4      work  30733\n",
       "5     woman  30699\n",
       "6   without  30659\n",
       "7      west  30423\n",
       "8      well  30388\n",
       "9      week  30361\n",
       "10  weather  30339\n",
       "11      way  30301\n",
       "12    water  30258\n",
       "13     want  30180\n",
       "14  village  29893\n",
       "15   victim  29840\n",
       "16   united  29285\n",
       "17       un  29042\n",
       "18        u  28835\n",
       "19      two  28809"
      ]
     },
     "execution_count": 16,
     "metadata": {},
     "output_type": "execute_result"
    }
   ],
   "source": [
    "vocab_df.head(20)"
   ]
  },
  {
   "cell_type": "code",
   "execution_count": null,
   "metadata": {},
   "outputs": [],
   "source": []
  }
 ],
 "metadata": {
  "kernelspec": {
   "display_name": "Python 3",
   "language": "python",
   "name": "python3"
  },
  "language_info": {
   "codemirror_mode": {
    "name": "ipython",
    "version": 3
   },
   "file_extension": ".py",
   "mimetype": "text/x-python",
   "name": "python",
   "nbconvert_exporter": "python",
   "pygments_lexer": "ipython3",
   "version": "3.6.6"
  }
 },
 "nbformat": 4,
 "nbformat_minor": 2
}
