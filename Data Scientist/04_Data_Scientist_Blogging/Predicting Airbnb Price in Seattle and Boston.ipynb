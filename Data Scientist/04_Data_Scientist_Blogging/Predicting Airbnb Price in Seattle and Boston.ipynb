{
 "cells": [
  {
   "cell_type": "markdown",
   "metadata": {},
   "source": [
    "# Predicting Airbnb Price in Seattle and Boston"
   ]
  },
  {
   "cell_type": "markdown",
   "metadata": {},
   "source": [
    "This project will adhere to __CRISP-DM__(Cross Industry Process for Data Mining) Process which includes the following steps:\n",
    ">1. Business Understanding\n",
    "2. Data Understanding\n",
    "3. Prepare Data\n",
    "4. Model data\n",
    "5. Results.\n",
    "6. Deploy"
   ]
  },
  {
   "cell_type": "markdown",
   "metadata": {},
   "source": [
    "# 1. Business Understanding\n",
    "From a business standpoint, we would like to understand how rental prices for Airbnb properties are set. Therefore, we want to build a model that learns on Seattle and Boston Airbnb datasets and predict the price. To this end, one might want to ask the following questions:\n",
    "    - Q1. Is there a difference in price in two cities?\n",
    "    - Q2. How many Airbnb properties are hosted by the same host on average?\n",
    "    - Q3. How does price spread based on location - is it evenly distributed or unevenly? \n",
    "    - Q4. What are the most important predictors for the price?"
   ]
  },
  {
   "cell_type": "markdown",
   "metadata": {},
   "source": [
    "# 2. Data Understanding\n",
    "\n",
    "You can find data for [Seattle] and [Boston] at Kaggle. \n",
    "\n",
    "[Seattle]: https://www.kaggle.com/airbnb/seattle/data\n",
    "[Boston]: https://www.kaggle.com/airbnb/boston"
   ]
  },
  {
   "cell_type": "code",
   "execution_count": 1,
   "metadata": {},
   "outputs": [],
   "source": [
    "%matplotlib inline\n",
    "\n",
    "import pandas as pd\n",
    "import numpy as np\n",
    "from os import path, getcwd\n",
    "import matplotlib.pyplot as plt\n",
    "import seaborn as sns\n",
    "from IPython.display import HTML, display\n",
    "from sklearn.impute import SimpleImputer\n",
    "from ast import literal_eval\n",
    "from sklearn.preprocessing import StandardScaler\n",
    "import warnings\n",
    "## helper.py has all modularized process functions - preprocessing, training\n",
    "from helper import preprocessor\n",
    "\n",
    "warnings.filterwarnings('ignore')\n",
    "sns.set(style='whitegrid', rc={\"lines.linewidth\":2, 'grid.color': '.8', 'grid.linestyle':':'})"
   ]
  },
  {
   "cell_type": "code",
   "execution_count": 2,
   "metadata": {},
   "outputs": [],
   "source": [
    "## read files\n",
    "cities = ['seattle', 'boston']\n",
    "# retrieve current directory\n",
    "cwd = path.join(getcwd(), 'data')\n",
    "\n",
    "## Read files to data frames\n",
    "sea_df = pd.read_csv(path.join(cwd, cities[0], 'listings.csv'), parse_dates=['last_scraped', 'first_review', 'last_review'])\n",
    "bos_df = pd.read_csv(path.join(cwd, cities[1], 'listings.csv'), parse_dates=['last_scraped', 'first_review', 'last_review'])"
   ]
  },
  {
   "cell_type": "code",
   "execution_count": 3,
   "metadata": {},
   "outputs": [
    {
     "data": {
      "text/plain": [
       "((3818, 92), (3585, 95))"
      ]
     },
     "execution_count": 3,
     "metadata": {},
     "output_type": "execute_result"
    }
   ],
   "source": [
    "sea_df.shape, bos_df.shape"
   ]
  },
  {
   "cell_type": "markdown",
   "metadata": {},
   "source": [
    "Notice feature numbers differ. "
   ]
  },
  {
   "cell_type": "code",
   "execution_count": 4,
   "metadata": {},
   "outputs": [],
   "source": [
    "## Unify columns\n",
    "bos_df = bos_df[sea_df.columns]"
   ]
  },
  {
   "cell_type": "code",
   "execution_count": 5,
   "metadata": {},
   "outputs": [
    {
     "data": {
      "text/html": [
       "<div>\n",
       "<style scoped>\n",
       "    .dataframe tbody tr th:only-of-type {\n",
       "        vertical-align: middle;\n",
       "    }\n",
       "\n",
       "    .dataframe tbody tr th {\n",
       "        vertical-align: top;\n",
       "    }\n",
       "\n",
       "    .dataframe thead th {\n",
       "        text-align: right;\n",
       "    }\n",
       "</style>\n",
       "<table border=\"1\" class=\"dataframe\">\n",
       "  <thead>\n",
       "    <tr style=\"text-align: right;\">\n",
       "      <th></th>\n",
       "      <th>id</th>\n",
       "      <th>listing_url</th>\n",
       "      <th>scrape_id</th>\n",
       "      <th>last_scraped</th>\n",
       "      <th>name</th>\n",
       "      <th>summary</th>\n",
       "      <th>space</th>\n",
       "      <th>description</th>\n",
       "      <th>experiences_offered</th>\n",
       "      <th>neighborhood_overview</th>\n",
       "      <th>...</th>\n",
       "      <th>review_scores_value</th>\n",
       "      <th>requires_license</th>\n",
       "      <th>license</th>\n",
       "      <th>jurisdiction_names</th>\n",
       "      <th>instant_bookable</th>\n",
       "      <th>cancellation_policy</th>\n",
       "      <th>require_guest_profile_picture</th>\n",
       "      <th>require_guest_phone_verification</th>\n",
       "      <th>calculated_host_listings_count</th>\n",
       "      <th>reviews_per_month</th>\n",
       "    </tr>\n",
       "  </thead>\n",
       "  <tbody>\n",
       "    <tr>\n",
       "      <th>0</th>\n",
       "      <td>241032</td>\n",
       "      <td>https://www.airbnb.com/rooms/241032</td>\n",
       "      <td>20160104002432</td>\n",
       "      <td>2016-01-04</td>\n",
       "      <td>Stylish Queen Anne Apartment</td>\n",
       "      <td>NaN</td>\n",
       "      <td>Make your self at home in this charming one-be...</td>\n",
       "      <td>Make your self at home in this charming one-be...</td>\n",
       "      <td>none</td>\n",
       "      <td>NaN</td>\n",
       "      <td>...</td>\n",
       "      <td>10.0</td>\n",
       "      <td>f</td>\n",
       "      <td>NaN</td>\n",
       "      <td>WASHINGTON</td>\n",
       "      <td>f</td>\n",
       "      <td>moderate</td>\n",
       "      <td>f</td>\n",
       "      <td>f</td>\n",
       "      <td>2</td>\n",
       "      <td>4.07</td>\n",
       "    </tr>\n",
       "    <tr>\n",
       "      <th>1</th>\n",
       "      <td>953595</td>\n",
       "      <td>https://www.airbnb.com/rooms/953595</td>\n",
       "      <td>20160104002432</td>\n",
       "      <td>2016-01-04</td>\n",
       "      <td>Bright &amp; Airy Queen Anne Apartment</td>\n",
       "      <td>Chemically sensitive? We've removed the irrita...</td>\n",
       "      <td>Beautiful, hypoallergenic apartment in an extr...</td>\n",
       "      <td>Chemically sensitive? We've removed the irrita...</td>\n",
       "      <td>none</td>\n",
       "      <td>Queen Anne is a wonderful, truly functional vi...</td>\n",
       "      <td>...</td>\n",
       "      <td>10.0</td>\n",
       "      <td>f</td>\n",
       "      <td>NaN</td>\n",
       "      <td>WASHINGTON</td>\n",
       "      <td>f</td>\n",
       "      <td>strict</td>\n",
       "      <td>t</td>\n",
       "      <td>t</td>\n",
       "      <td>6</td>\n",
       "      <td>1.48</td>\n",
       "    </tr>\n",
       "    <tr>\n",
       "      <th>2</th>\n",
       "      <td>3308979</td>\n",
       "      <td>https://www.airbnb.com/rooms/3308979</td>\n",
       "      <td>20160104002432</td>\n",
       "      <td>2016-01-04</td>\n",
       "      <td>New Modern House-Amazing water view</td>\n",
       "      <td>New modern house built in 2013.  Spectacular s...</td>\n",
       "      <td>Our house is modern, light and fresh with a wa...</td>\n",
       "      <td>New modern house built in 2013.  Spectacular s...</td>\n",
       "      <td>none</td>\n",
       "      <td>Upper Queen Anne is a charming neighborhood fu...</td>\n",
       "      <td>...</td>\n",
       "      <td>10.0</td>\n",
       "      <td>f</td>\n",
       "      <td>NaN</td>\n",
       "      <td>WASHINGTON</td>\n",
       "      <td>f</td>\n",
       "      <td>strict</td>\n",
       "      <td>f</td>\n",
       "      <td>f</td>\n",
       "      <td>2</td>\n",
       "      <td>1.15</td>\n",
       "    </tr>\n",
       "  </tbody>\n",
       "</table>\n",
       "<p>3 rows × 92 columns</p>\n",
       "</div>"
      ],
      "text/plain": [
       "        id                           listing_url       scrape_id last_scraped  \\\n",
       "0   241032   https://www.airbnb.com/rooms/241032  20160104002432   2016-01-04   \n",
       "1   953595   https://www.airbnb.com/rooms/953595  20160104002432   2016-01-04   \n",
       "2  3308979  https://www.airbnb.com/rooms/3308979  20160104002432   2016-01-04   \n",
       "\n",
       "                                  name  \\\n",
       "0         Stylish Queen Anne Apartment   \n",
       "1   Bright & Airy Queen Anne Apartment   \n",
       "2  New Modern House-Amazing water view   \n",
       "\n",
       "                                             summary  \\\n",
       "0                                                NaN   \n",
       "1  Chemically sensitive? We've removed the irrita...   \n",
       "2  New modern house built in 2013.  Spectacular s...   \n",
       "\n",
       "                                               space  \\\n",
       "0  Make your self at home in this charming one-be...   \n",
       "1  Beautiful, hypoallergenic apartment in an extr...   \n",
       "2  Our house is modern, light and fresh with a wa...   \n",
       "\n",
       "                                         description experiences_offered  \\\n",
       "0  Make your self at home in this charming one-be...                none   \n",
       "1  Chemically sensitive? We've removed the irrita...                none   \n",
       "2  New modern house built in 2013.  Spectacular s...                none   \n",
       "\n",
       "                               neighborhood_overview        ...         \\\n",
       "0                                                NaN        ...          \n",
       "1  Queen Anne is a wonderful, truly functional vi...        ...          \n",
       "2  Upper Queen Anne is a charming neighborhood fu...        ...          \n",
       "\n",
       "  review_scores_value requires_license license jurisdiction_names  \\\n",
       "0                10.0                f     NaN         WASHINGTON   \n",
       "1                10.0                f     NaN         WASHINGTON   \n",
       "2                10.0                f     NaN         WASHINGTON   \n",
       "\n",
       "  instant_bookable cancellation_policy  require_guest_profile_picture  \\\n",
       "0                f            moderate                              f   \n",
       "1                f              strict                              t   \n",
       "2                f              strict                              f   \n",
       "\n",
       "  require_guest_phone_verification calculated_host_listings_count  \\\n",
       "0                                f                              2   \n",
       "1                                t                              6   \n",
       "2                                f                              2   \n",
       "\n",
       "  reviews_per_month  \n",
       "0              4.07  \n",
       "1              1.48  \n",
       "2              1.15  \n",
       "\n",
       "[3 rows x 92 columns]"
      ]
     },
     "execution_count": 5,
     "metadata": {},
     "output_type": "execute_result"
    }
   ],
   "source": [
    "## Display first few rows\n",
    "sea_df.head(3)"
   ]
  },
  {
   "cell_type": "code",
   "execution_count": 6,
   "metadata": {},
   "outputs": [
    {
     "data": {
      "text/html": [
       "<div>\n",
       "<style scoped>\n",
       "    .dataframe tbody tr th:only-of-type {\n",
       "        vertical-align: middle;\n",
       "    }\n",
       "\n",
       "    .dataframe tbody tr th {\n",
       "        vertical-align: top;\n",
       "    }\n",
       "\n",
       "    .dataframe thead th {\n",
       "        text-align: right;\n",
       "    }\n",
       "</style>\n",
       "<table border=\"1\" class=\"dataframe\">\n",
       "  <thead>\n",
       "    <tr style=\"text-align: right;\">\n",
       "      <th></th>\n",
       "      <th>id</th>\n",
       "      <th>listing_url</th>\n",
       "      <th>scrape_id</th>\n",
       "      <th>last_scraped</th>\n",
       "      <th>name</th>\n",
       "      <th>summary</th>\n",
       "      <th>space</th>\n",
       "      <th>description</th>\n",
       "      <th>experiences_offered</th>\n",
       "      <th>neighborhood_overview</th>\n",
       "      <th>...</th>\n",
       "      <th>review_scores_value</th>\n",
       "      <th>requires_license</th>\n",
       "      <th>license</th>\n",
       "      <th>jurisdiction_names</th>\n",
       "      <th>instant_bookable</th>\n",
       "      <th>cancellation_policy</th>\n",
       "      <th>require_guest_profile_picture</th>\n",
       "      <th>require_guest_phone_verification</th>\n",
       "      <th>calculated_host_listings_count</th>\n",
       "      <th>reviews_per_month</th>\n",
       "    </tr>\n",
       "  </thead>\n",
       "  <tbody>\n",
       "    <tr>\n",
       "      <th>0</th>\n",
       "      <td>12147973</td>\n",
       "      <td>https://www.airbnb.com/rooms/12147973</td>\n",
       "      <td>20160906204935</td>\n",
       "      <td>2016-09-07</td>\n",
       "      <td>Sunny Bungalow in the City</td>\n",
       "      <td>Cozy, sunny, family home.  Master bedroom high...</td>\n",
       "      <td>The house has an open and cozy feel at the sam...</td>\n",
       "      <td>Cozy, sunny, family home.  Master bedroom high...</td>\n",
       "      <td>none</td>\n",
       "      <td>Roslindale is quiet, convenient and friendly. ...</td>\n",
       "      <td>...</td>\n",
       "      <td>NaN</td>\n",
       "      <td>f</td>\n",
       "      <td>NaN</td>\n",
       "      <td>NaN</td>\n",
       "      <td>f</td>\n",
       "      <td>moderate</td>\n",
       "      <td>f</td>\n",
       "      <td>f</td>\n",
       "      <td>1</td>\n",
       "      <td>NaN</td>\n",
       "    </tr>\n",
       "    <tr>\n",
       "      <th>1</th>\n",
       "      <td>3075044</td>\n",
       "      <td>https://www.airbnb.com/rooms/3075044</td>\n",
       "      <td>20160906204935</td>\n",
       "      <td>2016-09-07</td>\n",
       "      <td>Charming room in pet friendly apt</td>\n",
       "      <td>Charming and quiet room in a second floor 1910...</td>\n",
       "      <td>Small but cozy and quite room with a full size...</td>\n",
       "      <td>Charming and quiet room in a second floor 1910...</td>\n",
       "      <td>none</td>\n",
       "      <td>The room is in Roslindale, a diverse and prima...</td>\n",
       "      <td>...</td>\n",
       "      <td>9.0</td>\n",
       "      <td>f</td>\n",
       "      <td>NaN</td>\n",
       "      <td>NaN</td>\n",
       "      <td>t</td>\n",
       "      <td>moderate</td>\n",
       "      <td>f</td>\n",
       "      <td>f</td>\n",
       "      <td>1</td>\n",
       "      <td>1.30</td>\n",
       "    </tr>\n",
       "    <tr>\n",
       "      <th>2</th>\n",
       "      <td>6976</td>\n",
       "      <td>https://www.airbnb.com/rooms/6976</td>\n",
       "      <td>20160906204935</td>\n",
       "      <td>2016-09-07</td>\n",
       "      <td>Mexican Folk Art Haven in Boston</td>\n",
       "      <td>Come stay with a friendly, middle-aged guy in ...</td>\n",
       "      <td>Come stay with a friendly, middle-aged guy in ...</td>\n",
       "      <td>Come stay with a friendly, middle-aged guy in ...</td>\n",
       "      <td>none</td>\n",
       "      <td>The LOCATION: Roslindale is a safe and diverse...</td>\n",
       "      <td>...</td>\n",
       "      <td>10.0</td>\n",
       "      <td>f</td>\n",
       "      <td>NaN</td>\n",
       "      <td>NaN</td>\n",
       "      <td>f</td>\n",
       "      <td>moderate</td>\n",
       "      <td>t</td>\n",
       "      <td>f</td>\n",
       "      <td>1</td>\n",
       "      <td>0.47</td>\n",
       "    </tr>\n",
       "  </tbody>\n",
       "</table>\n",
       "<p>3 rows × 92 columns</p>\n",
       "</div>"
      ],
      "text/plain": [
       "         id                            listing_url       scrape_id  \\\n",
       "0  12147973  https://www.airbnb.com/rooms/12147973  20160906204935   \n",
       "1   3075044   https://www.airbnb.com/rooms/3075044  20160906204935   \n",
       "2      6976      https://www.airbnb.com/rooms/6976  20160906204935   \n",
       "\n",
       "  last_scraped                               name  \\\n",
       "0   2016-09-07         Sunny Bungalow in the City   \n",
       "1   2016-09-07  Charming room in pet friendly apt   \n",
       "2   2016-09-07   Mexican Folk Art Haven in Boston   \n",
       "\n",
       "                                             summary  \\\n",
       "0  Cozy, sunny, family home.  Master bedroom high...   \n",
       "1  Charming and quiet room in a second floor 1910...   \n",
       "2  Come stay with a friendly, middle-aged guy in ...   \n",
       "\n",
       "                                               space  \\\n",
       "0  The house has an open and cozy feel at the sam...   \n",
       "1  Small but cozy and quite room with a full size...   \n",
       "2  Come stay with a friendly, middle-aged guy in ...   \n",
       "\n",
       "                                         description experiences_offered  \\\n",
       "0  Cozy, sunny, family home.  Master bedroom high...                none   \n",
       "1  Charming and quiet room in a second floor 1910...                none   \n",
       "2  Come stay with a friendly, middle-aged guy in ...                none   \n",
       "\n",
       "                               neighborhood_overview        ...         \\\n",
       "0  Roslindale is quiet, convenient and friendly. ...        ...          \n",
       "1  The room is in Roslindale, a diverse and prima...        ...          \n",
       "2  The LOCATION: Roslindale is a safe and diverse...        ...          \n",
       "\n",
       "  review_scores_value requires_license license jurisdiction_names  \\\n",
       "0                 NaN                f     NaN                NaN   \n",
       "1                 9.0                f     NaN                NaN   \n",
       "2                10.0                f     NaN                NaN   \n",
       "\n",
       "  instant_bookable cancellation_policy  require_guest_profile_picture  \\\n",
       "0                f            moderate                              f   \n",
       "1                t            moderate                              f   \n",
       "2                f            moderate                              t   \n",
       "\n",
       "  require_guest_phone_verification calculated_host_listings_count  \\\n",
       "0                                f                              1   \n",
       "1                                f                              1   \n",
       "2                                f                              1   \n",
       "\n",
       "  reviews_per_month  \n",
       "0               NaN  \n",
       "1              1.30  \n",
       "2              0.47  \n",
       "\n",
       "[3 rows x 92 columns]"
      ]
     },
     "execution_count": 6,
     "metadata": {},
     "output_type": "execute_result"
    }
   ],
   "source": [
    "bos_df.head(3)"
   ]
  },
  {
   "cell_type": "code",
   "execution_count": 7,
   "metadata": {},
   "outputs": [
    {
     "data": {
      "text/plain": [
       "Index(['id', 'listing_url', 'scrape_id', 'last_scraped', 'name', 'summary',\n",
       "       'space', 'description', 'experiences_offered', 'neighborhood_overview',\n",
       "       'notes', 'transit', 'thumbnail_url', 'medium_url', 'picture_url',\n",
       "       'xl_picture_url', 'host_id', 'host_url', 'host_name', 'host_since',\n",
       "       'host_location', 'host_about', 'host_response_time',\n",
       "       'host_response_rate', 'host_acceptance_rate', 'host_is_superhost',\n",
       "       'host_thumbnail_url', 'host_picture_url', 'host_neighbourhood',\n",
       "       'host_listings_count', 'host_total_listings_count',\n",
       "       'host_verifications', 'host_has_profile_pic', 'host_identity_verified',\n",
       "       'street', 'neighbourhood', 'neighbourhood_cleansed',\n",
       "       'neighbourhood_group_cleansed', 'city', 'state', 'zipcode', 'market',\n",
       "       'smart_location', 'country_code', 'country', 'latitude', 'longitude',\n",
       "       'is_location_exact', 'property_type', 'room_type', 'accommodates',\n",
       "       'bathrooms', 'bedrooms', 'beds', 'bed_type', 'amenities', 'square_feet',\n",
       "       'price', 'weekly_price', 'monthly_price', 'security_deposit',\n",
       "       'cleaning_fee', 'guests_included', 'extra_people', 'minimum_nights',\n",
       "       'maximum_nights', 'calendar_updated', 'has_availability',\n",
       "       'availability_30', 'availability_60', 'availability_90',\n",
       "       'availability_365', 'calendar_last_scraped', 'number_of_reviews',\n",
       "       'first_review', 'last_review', 'review_scores_rating',\n",
       "       'review_scores_accuracy', 'review_scores_cleanliness',\n",
       "       'review_scores_checkin', 'review_scores_communication',\n",
       "       'review_scores_location', 'review_scores_value', 'requires_license',\n",
       "       'license', 'jurisdiction_names', 'instant_bookable',\n",
       "       'cancellation_policy', 'require_guest_profile_picture',\n",
       "       'require_guest_phone_verification', 'calculated_host_listings_count',\n",
       "       'reviews_per_month'],\n",
       "      dtype='object')"
      ]
     },
     "execution_count": 7,
     "metadata": {},
     "output_type": "execute_result"
    }
   ],
   "source": [
    "sea_df.columns"
   ]
  },
  {
   "cell_type": "markdown",
   "metadata": {},
   "source": [
    "After cursory investigation, I trimmed down feature size to 42. For example, we can identify property with 'id', therefore 'name' is redundant and so is with 'host_id' and 'host_name'. Also, 'last_scraped' is one value column for both data frames, therefore, we do not include it."
   ]
  },
  {
   "cell_type": "code",
   "execution_count": 8,
   "metadata": {},
   "outputs": [],
   "source": [
    "cols = ['id', 'host_id', 'host_verifications', 'host_is_superhost', 'zipcode', 'bathrooms', 'bedrooms', 'beds', \n",
    "        'bed_type', 'amenities', 'square_feet', 'price', 'weekly_price', 'monthly_price', 'security_deposit', \n",
    "        'cleaning_fee', 'guests_included', 'extra_people', 'minimum_nights','maximum_nights', 'calendar_updated', \n",
    "        'has_availability', 'availability_30', 'availability_60', 'availability_90', 'availability_365', \n",
    "        'number_of_reviews', 'first_review', 'last_review', 'review_scores_rating','review_scores_accuracy', \n",
    "        'review_scores_cleanliness', 'review_scores_checkin', 'review_scores_communication', 'review_scores_location', \n",
    "        'review_scores_value', 'instant_bookable', 'cancellation_policy', 'require_guest_profile_picture', \n",
    "        'require_guest_phone_verification','calculated_host_listings_count', 'reviews_per_month']\n",
    "\n",
    "sea_df = sea_df[cols]\n",
    "bos_df = bos_df[cols]"
   ]
  },
  {
   "cell_type": "markdown",
   "metadata": {},
   "source": [
    "# 3. Prepare Data"
   ]
  },
  {
   "cell_type": "code",
   "execution_count": 9,
   "metadata": {
    "scrolled": false
   },
   "outputs": [
    {
     "data": {
      "text/plain": [
       "host_is_superhost              0.000524\n",
       "zipcode                        0.001833\n",
       "bathrooms                      0.004191\n",
       "bedrooms                       0.001572\n",
       "beds                           0.000262\n",
       "square_feet                    0.974594\n",
       "weekly_price                   0.473808\n",
       "monthly_price                  0.602672\n",
       "security_deposit               0.511262\n",
       "cleaning_fee                   0.269775\n",
       "first_review                   0.164222\n",
       "last_review                    0.164222\n",
       "review_scores_rating           0.169460\n",
       "review_scores_accuracy         0.172342\n",
       "review_scores_cleanliness      0.171032\n",
       "review_scores_checkin          0.172342\n",
       "review_scores_communication    0.170508\n",
       "review_scores_location         0.171556\n",
       "review_scores_value            0.171818\n",
       "reviews_per_month              0.164222\n",
       "dtype: float64"
      ]
     },
     "execution_count": 9,
     "metadata": {},
     "output_type": "execute_result"
    }
   ],
   "source": [
    "temp1 = sea_df.isnull().sum()/sea_df.shape[0]\n",
    "temp1[temp1 > 0] "
   ]
  },
  {
   "cell_type": "code",
   "execution_count": 10,
   "metadata": {},
   "outputs": [
    {
     "data": {
      "text/plain": [
       "zipcode                        0.010600\n",
       "bathrooms                      0.003905\n",
       "bedrooms                       0.002789\n",
       "beds                           0.002510\n",
       "square_feet                    0.984379\n",
       "weekly_price                   0.751185\n",
       "monthly_price                  0.752301\n",
       "security_deposit               0.625662\n",
       "cleaning_fee                   0.308787\n",
       "has_availability               1.000000\n",
       "first_review                   0.210879\n",
       "last_review                    0.210879\n",
       "review_scores_rating           0.226778\n",
       "review_scores_accuracy         0.229568\n",
       "review_scores_cleanliness      0.228173\n",
       "review_scores_checkin          0.228731\n",
       "review_scores_communication    0.228173\n",
       "review_scores_location         0.229289\n",
       "review_scores_value            0.229010\n",
       "reviews_per_month              0.210879\n",
       "dtype: float64"
      ]
     },
     "execution_count": 10,
     "metadata": {},
     "output_type": "execute_result"
    }
   ],
   "source": [
    "temp2 = bos_df.isnull().sum() / bos_df.shape[0]\n",
    "temp2[temp2 > 0]"
   ]
  },
  {
   "cell_type": "code",
   "execution_count": 11,
   "metadata": {},
   "outputs": [],
   "source": [
    "## Let us drop features with more than 20% missings\n",
    "sea_df = sea_df.drop(columns=temp2[temp2>.2].index.values)\n",
    "bos_df = bos_df.drop(columns=temp2[temp2>.2].index.values)"
   ]
  },
  {
   "cell_type": "code",
   "execution_count": 12,
   "metadata": {},
   "outputs": [
    {
     "data": {
      "text/plain": [
       "((3818, 26), (3585, 26))"
      ]
     },
     "execution_count": 12,
     "metadata": {},
     "output_type": "execute_result"
    }
   ],
   "source": [
    "sea_df.shape, bos_df.shape"
   ]
  },
  {
   "cell_type": "code",
   "execution_count": 13,
   "metadata": {},
   "outputs": [
    {
     "data": {
      "text/plain": [
       "host_is_superhost     2\n",
       "zipcode               7\n",
       "bathrooms            16\n",
       "bedrooms              6\n",
       "beds                  1\n",
       "dtype: int64"
      ]
     },
     "execution_count": 13,
     "metadata": {},
     "output_type": "execute_result"
    }
   ],
   "source": [
    "temp1 = sea_df.isnull().sum() \n",
    "temp1[temp1 > 0]"
   ]
  },
  {
   "cell_type": "code",
   "execution_count": 14,
   "metadata": {},
   "outputs": [
    {
     "data": {
      "text/plain": [
       "zipcode      38\n",
       "bathrooms    14\n",
       "bedrooms     10\n",
       "beds          9\n",
       "dtype: int64"
      ]
     },
     "execution_count": 14,
     "metadata": {},
     "output_type": "execute_result"
    }
   ],
   "source": [
    "temp2 = bos_df.isnull().sum()\n",
    "temp2[temp2 > 0]"
   ]
  },
  {
   "cell_type": "markdown",
   "metadata": {},
   "source": [
    "Now let's impute the following statistics to missing values\n",
    "- host_is_superhost, zipcode: mode\n",
    "- bathrooms, bedrooms, beds: mean"
   ]
  },
  {
   "cell_type": "code",
   "execution_count": 15,
   "metadata": {},
   "outputs": [],
   "source": [
    "imp_mode = SimpleImputer(strategy='most_frequent')\n",
    "\n",
    "sea_df[['host_is_superhost', 'zipcode']] = imp_mode.fit_transform(sea_df[['host_is_superhost', 'zipcode']])\n",
    "bos_df[['host_is_superhost', 'zipcode']] = imp_mode.fit_transform(bos_df[['host_is_superhost', 'zipcode']])\n",
    "\n",
    "imp_mean = SimpleImputer(strategy='mean')\n",
    "sea_df[['bathrooms', 'bedrooms', 'beds']] = imp_mode.fit_transform(sea_df[['bathrooms', 'bedrooms', 'beds']])\n",
    "bos_df[['bathrooms', 'bedrooms', 'beds']] = imp_mode.fit_transform(bos_df[['bathrooms', 'bedrooms', 'beds']])"
   ]
  },
  {
   "cell_type": "code",
   "execution_count": 16,
   "metadata": {},
   "outputs": [
    {
     "data": {
      "text/html": [
       "<div>\n",
       "<style scoped>\n",
       "    .dataframe tbody tr th:only-of-type {\n",
       "        vertical-align: middle;\n",
       "    }\n",
       "\n",
       "    .dataframe tbody tr th {\n",
       "        vertical-align: top;\n",
       "    }\n",
       "\n",
       "    .dataframe thead th {\n",
       "        text-align: right;\n",
       "    }\n",
       "</style>\n",
       "<table border=\"1\" class=\"dataframe\">\n",
       "  <thead>\n",
       "    <tr style=\"text-align: right;\">\n",
       "      <th></th>\n",
       "      <th>id</th>\n",
       "      <th>host_id</th>\n",
       "      <th>host_verifications</th>\n",
       "      <th>host_is_superhost</th>\n",
       "      <th>zipcode</th>\n",
       "      <th>bathrooms</th>\n",
       "      <th>bedrooms</th>\n",
       "      <th>beds</th>\n",
       "      <th>bed_type</th>\n",
       "      <th>amenities</th>\n",
       "      <th>price</th>\n",
       "      <th>guests_included</th>\n",
       "      <th>extra_people</th>\n",
       "      <th>minimum_nights</th>\n",
       "    </tr>\n",
       "  </thead>\n",
       "  <tbody>\n",
       "    <tr>\n",
       "      <th>0</th>\n",
       "      <td>241032</td>\n",
       "      <td>956883</td>\n",
       "      <td>['email', 'phone', 'reviews', 'kba']</td>\n",
       "      <td>f</td>\n",
       "      <td>98119</td>\n",
       "      <td>1.0</td>\n",
       "      <td>1.0</td>\n",
       "      <td>1.0</td>\n",
       "      <td>Real Bed</td>\n",
       "      <td>{TV,\"Cable TV\",Internet,\"Wireless Internet\",\"A...</td>\n",
       "      <td>$85.00</td>\n",
       "      <td>2</td>\n",
       "      <td>$5.00</td>\n",
       "      <td>1</td>\n",
       "    </tr>\n",
       "    <tr>\n",
       "      <th>1</th>\n",
       "      <td>953595</td>\n",
       "      <td>5177328</td>\n",
       "      <td>['email', 'phone', 'facebook', 'linkedin', 're...</td>\n",
       "      <td>t</td>\n",
       "      <td>98119</td>\n",
       "      <td>1.0</td>\n",
       "      <td>1.0</td>\n",
       "      <td>1.0</td>\n",
       "      <td>Real Bed</td>\n",
       "      <td>{TV,Internet,\"Wireless Internet\",Kitchen,\"Free...</td>\n",
       "      <td>$150.00</td>\n",
       "      <td>1</td>\n",
       "      <td>$0.00</td>\n",
       "      <td>2</td>\n",
       "    </tr>\n",
       "    <tr>\n",
       "      <th>2</th>\n",
       "      <td>3308979</td>\n",
       "      <td>16708587</td>\n",
       "      <td>['email', 'phone', 'google', 'reviews', 'jumio']</td>\n",
       "      <td>f</td>\n",
       "      <td>98119</td>\n",
       "      <td>4.5</td>\n",
       "      <td>5.0</td>\n",
       "      <td>7.0</td>\n",
       "      <td>Real Bed</td>\n",
       "      <td>{TV,\"Cable TV\",Internet,\"Wireless Internet\",\"A...</td>\n",
       "      <td>$975.00</td>\n",
       "      <td>10</td>\n",
       "      <td>$25.00</td>\n",
       "      <td>4</td>\n",
       "    </tr>\n",
       "    <tr>\n",
       "      <th>3</th>\n",
       "      <td>7421966</td>\n",
       "      <td>9851441</td>\n",
       "      <td>['email', 'phone', 'facebook', 'reviews', 'jum...</td>\n",
       "      <td>f</td>\n",
       "      <td>98119</td>\n",
       "      <td>1.0</td>\n",
       "      <td>0.0</td>\n",
       "      <td>2.0</td>\n",
       "      <td>Real Bed</td>\n",
       "      <td>{Internet,\"Wireless Internet\",Kitchen,\"Indoor ...</td>\n",
       "      <td>$100.00</td>\n",
       "      <td>1</td>\n",
       "      <td>$0.00</td>\n",
       "      <td>1</td>\n",
       "    </tr>\n",
       "    <tr>\n",
       "      <th>4</th>\n",
       "      <td>278830</td>\n",
       "      <td>1452570</td>\n",
       "      <td>['email', 'phone', 'facebook', 'reviews', 'kba']</td>\n",
       "      <td>f</td>\n",
       "      <td>98119</td>\n",
       "      <td>2.0</td>\n",
       "      <td>3.0</td>\n",
       "      <td>3.0</td>\n",
       "      <td>Real Bed</td>\n",
       "      <td>{TV,\"Cable TV\",Internet,\"Wireless Internet\",Ki...</td>\n",
       "      <td>$450.00</td>\n",
       "      <td>6</td>\n",
       "      <td>$15.00</td>\n",
       "      <td>1</td>\n",
       "    </tr>\n",
       "  </tbody>\n",
       "</table>\n",
       "</div>"
      ],
      "text/plain": [
       "        id   host_id                                 host_verifications  \\\n",
       "0   241032    956883               ['email', 'phone', 'reviews', 'kba']   \n",
       "1   953595   5177328  ['email', 'phone', 'facebook', 'linkedin', 're...   \n",
       "2  3308979  16708587   ['email', 'phone', 'google', 'reviews', 'jumio']   \n",
       "3  7421966   9851441  ['email', 'phone', 'facebook', 'reviews', 'jum...   \n",
       "4   278830   1452570   ['email', 'phone', 'facebook', 'reviews', 'kba']   \n",
       "\n",
       "  host_is_superhost zipcode  bathrooms  bedrooms  beds  bed_type  \\\n",
       "0                 f   98119        1.0       1.0   1.0  Real Bed   \n",
       "1                 t   98119        1.0       1.0   1.0  Real Bed   \n",
       "2                 f   98119        4.5       5.0   7.0  Real Bed   \n",
       "3                 f   98119        1.0       0.0   2.0  Real Bed   \n",
       "4                 f   98119        2.0       3.0   3.0  Real Bed   \n",
       "\n",
       "                                           amenities    price  \\\n",
       "0  {TV,\"Cable TV\",Internet,\"Wireless Internet\",\"A...   $85.00   \n",
       "1  {TV,Internet,\"Wireless Internet\",Kitchen,\"Free...  $150.00   \n",
       "2  {TV,\"Cable TV\",Internet,\"Wireless Internet\",\"A...  $975.00   \n",
       "3  {Internet,\"Wireless Internet\",Kitchen,\"Indoor ...  $100.00   \n",
       "4  {TV,\"Cable TV\",Internet,\"Wireless Internet\",Ki...  $450.00   \n",
       "\n",
       "   guests_included extra_people  minimum_nights  \n",
       "0                2        $5.00               1  \n",
       "1                1        $0.00               2  \n",
       "2               10       $25.00               4  \n",
       "3                1        $0.00               1  \n",
       "4                6       $15.00               1  "
      ]
     },
     "execution_count": 16,
     "metadata": {},
     "output_type": "execute_result"
    }
   ],
   "source": [
    "sea_df[sea_df.columns[:14]].head()"
   ]
  },
  {
   "cell_type": "code",
   "execution_count": 17,
   "metadata": {},
   "outputs": [
    {
     "data": {
      "text/html": [
       "<div>\n",
       "<style scoped>\n",
       "    .dataframe tbody tr th:only-of-type {\n",
       "        vertical-align: middle;\n",
       "    }\n",
       "\n",
       "    .dataframe tbody tr th {\n",
       "        vertical-align: top;\n",
       "    }\n",
       "\n",
       "    .dataframe thead th {\n",
       "        text-align: right;\n",
       "    }\n",
       "</style>\n",
       "<table border=\"1\" class=\"dataframe\">\n",
       "  <thead>\n",
       "    <tr style=\"text-align: right;\">\n",
       "      <th></th>\n",
       "      <th>maximum_nights</th>\n",
       "      <th>calendar_updated</th>\n",
       "      <th>availability_30</th>\n",
       "      <th>availability_60</th>\n",
       "      <th>availability_90</th>\n",
       "      <th>availability_365</th>\n",
       "      <th>number_of_reviews</th>\n",
       "      <th>instant_bookable</th>\n",
       "      <th>cancellation_policy</th>\n",
       "      <th>require_guest_profile_picture</th>\n",
       "      <th>require_guest_phone_verification</th>\n",
       "      <th>calculated_host_listings_count</th>\n",
       "    </tr>\n",
       "  </thead>\n",
       "  <tbody>\n",
       "    <tr>\n",
       "      <th>0</th>\n",
       "      <td>365</td>\n",
       "      <td>4 weeks ago</td>\n",
       "      <td>14</td>\n",
       "      <td>41</td>\n",
       "      <td>71</td>\n",
       "      <td>346</td>\n",
       "      <td>207</td>\n",
       "      <td>f</td>\n",
       "      <td>moderate</td>\n",
       "      <td>f</td>\n",
       "      <td>f</td>\n",
       "      <td>2</td>\n",
       "    </tr>\n",
       "    <tr>\n",
       "      <th>1</th>\n",
       "      <td>90</td>\n",
       "      <td>today</td>\n",
       "      <td>13</td>\n",
       "      <td>13</td>\n",
       "      <td>16</td>\n",
       "      <td>291</td>\n",
       "      <td>43</td>\n",
       "      <td>f</td>\n",
       "      <td>strict</td>\n",
       "      <td>t</td>\n",
       "      <td>t</td>\n",
       "      <td>6</td>\n",
       "    </tr>\n",
       "    <tr>\n",
       "      <th>2</th>\n",
       "      <td>30</td>\n",
       "      <td>5 weeks ago</td>\n",
       "      <td>1</td>\n",
       "      <td>6</td>\n",
       "      <td>17</td>\n",
       "      <td>220</td>\n",
       "      <td>20</td>\n",
       "      <td>f</td>\n",
       "      <td>strict</td>\n",
       "      <td>f</td>\n",
       "      <td>f</td>\n",
       "      <td>2</td>\n",
       "    </tr>\n",
       "    <tr>\n",
       "      <th>3</th>\n",
       "      <td>1125</td>\n",
       "      <td>6 months ago</td>\n",
       "      <td>0</td>\n",
       "      <td>0</td>\n",
       "      <td>0</td>\n",
       "      <td>143</td>\n",
       "      <td>0</td>\n",
       "      <td>f</td>\n",
       "      <td>flexible</td>\n",
       "      <td>f</td>\n",
       "      <td>f</td>\n",
       "      <td>1</td>\n",
       "    </tr>\n",
       "    <tr>\n",
       "      <th>4</th>\n",
       "      <td>1125</td>\n",
       "      <td>7 weeks ago</td>\n",
       "      <td>30</td>\n",
       "      <td>60</td>\n",
       "      <td>90</td>\n",
       "      <td>365</td>\n",
       "      <td>38</td>\n",
       "      <td>f</td>\n",
       "      <td>strict</td>\n",
       "      <td>f</td>\n",
       "      <td>f</td>\n",
       "      <td>1</td>\n",
       "    </tr>\n",
       "  </tbody>\n",
       "</table>\n",
       "</div>"
      ],
      "text/plain": [
       "   maximum_nights calendar_updated  availability_30  availability_60  \\\n",
       "0             365      4 weeks ago               14               41   \n",
       "1              90            today               13               13   \n",
       "2              30      5 weeks ago                1                6   \n",
       "3            1125     6 months ago                0                0   \n",
       "4            1125      7 weeks ago               30               60   \n",
       "\n",
       "   availability_90  availability_365  number_of_reviews instant_bookable  \\\n",
       "0               71               346                207                f   \n",
       "1               16               291                 43                f   \n",
       "2               17               220                 20                f   \n",
       "3                0               143                  0                f   \n",
       "4               90               365                 38                f   \n",
       "\n",
       "  cancellation_policy require_guest_profile_picture  \\\n",
       "0            moderate                             f   \n",
       "1              strict                             t   \n",
       "2              strict                             f   \n",
       "3            flexible                             f   \n",
       "4              strict                             f   \n",
       "\n",
       "  require_guest_phone_verification  calculated_host_listings_count  \n",
       "0                                f                               2  \n",
       "1                                t                               6  \n",
       "2                                f                               2  \n",
       "3                                f                               1  \n",
       "4                                f                               1  "
      ]
     },
     "execution_count": 17,
     "metadata": {},
     "output_type": "execute_result"
    }
   ],
   "source": [
    "sea_df[sea_df.columns[14:]].head()"
   ]
  },
  {
   "cell_type": "code",
   "execution_count": 18,
   "metadata": {},
   "outputs": [
    {
     "name": "stdout",
     "output_type": "stream",
     "text": [
      "<class 'pandas.core.frame.DataFrame'>\n",
      "RangeIndex: 3818 entries, 0 to 3817\n",
      "Data columns (total 26 columns):\n",
      "id                                  3818 non-null int64\n",
      "host_id                             3818 non-null int64\n",
      "host_verifications                  3818 non-null object\n",
      "host_is_superhost                   3818 non-null object\n",
      "zipcode                             3818 non-null object\n",
      "bathrooms                           3818 non-null float64\n",
      "bedrooms                            3818 non-null float64\n",
      "beds                                3818 non-null float64\n",
      "bed_type                            3818 non-null object\n",
      "amenities                           3818 non-null object\n",
      "price                               3818 non-null object\n",
      "guests_included                     3818 non-null int64\n",
      "extra_people                        3818 non-null object\n",
      "minimum_nights                      3818 non-null int64\n",
      "maximum_nights                      3818 non-null int64\n",
      "calendar_updated                    3818 non-null object\n",
      "availability_30                     3818 non-null int64\n",
      "availability_60                     3818 non-null int64\n",
      "availability_90                     3818 non-null int64\n",
      "availability_365                    3818 non-null int64\n",
      "number_of_reviews                   3818 non-null int64\n",
      "instant_bookable                    3818 non-null object\n",
      "cancellation_policy                 3818 non-null object\n",
      "require_guest_profile_picture       3818 non-null object\n",
      "require_guest_phone_verification    3818 non-null object\n",
      "calculated_host_listings_count      3818 non-null int64\n",
      "dtypes: float64(3), int64(11), object(12)\n",
      "memory usage: 775.6+ KB\n"
     ]
    }
   ],
   "source": [
    "sea_df.info()"
   ]
  },
  {
   "cell_type": "markdown",
   "metadata": {},
   "source": [
    "### Transforming certain features\n",
    "\n",
    "It seems that we need to touch on some features - zipcode, price, extra_people, host_verification, ammenities. Since host_verification and ammenities are categorical variables, I will set them apart now and store refined values in categorical dataframes."
   ]
  },
  {
   "cell_type": "code",
   "execution_count": 19,
   "metadata": {},
   "outputs": [],
   "source": [
    "## 1) Zipcode: remove unnecessary details or typos\n",
    "## extract numbers \n",
    "sea_df.zipcode[sea_df.zipcode.str.contains('[^0-9]', regex=True)] = sea_df.zipcode.str.extract(r'(?:[^0-9])(\\d+)')[0].value_counts().index[0]\n",
    "bos_df.zipcode = bos_df.zipcode.str.extract(r'(\\d+)(?<![^0-9])')[0]\n",
    "\n",
    "## 2) Price & extra_people: str -> float\n",
    "## drop '$' and ','\n",
    "sea_df.price = sea_df.price.map(lambda str_price: str_price[1:]).str.replace(',', '').astype(float)\n",
    "bos_df.price = bos_df.price.map(lambda str_price: str_price[1:]).str.replace(',', '').astype(float)\n",
    "sea_df.extra_people = sea_df.extra_people.map(lambda str_price: str_price[1:]).str.replace(',', '').astype(float)\n",
    "bos_df.extra_people = bos_df.extra_people.map(lambda str_price: str_price[1:]).str.replace(',', '').astype(float)\n",
    "\n",
    "## 3) host_verifications \n",
    "### seattle\n",
    "sea_df.host_verifications = sea_df.host_verifications.replace(['[]', 'None'], \"['none']\")\n",
    "### define seattle categorical dummy dataframe\n",
    "sea_cat = pd.get_dummies(sea_df.host_verifications.map(literal_eval).apply(pd.Series).stack(), prefix='host_ver').sum(level=0)\n",
    "### boston\n",
    "bos_df.host_verifications = bos_df.host_verifications.replace(['[]', 'None'], \"['none']\")\n",
    "### define boston categorical dummy dataframe\n",
    "bos_cat = pd.get_dummies(bos_df.host_verifications.map(literal_eval).apply(pd.Series).stack(), prefix='host_ver').sum(level=0)\n",
    "### unify column width and order\n",
    "bos_cat['host_ver_photographer'] = 0\n",
    "bos_cat.columns = sea_cat.columns\n",
    "## drop host_verifications from sea_df, bos_df\n",
    "sea_df = sea_df.drop(columns=['host_verifications'])\n",
    "bos_df = bos_df.drop(columns=['host_verifications'])\n",
    "\n",
    "## 4) amenities\n",
    "### change format to string list same as host_verifications\n",
    "sea_df['amenities'] = sea_df['amenities'].map(lambda d: [amenity.replace('\"', \"\").replace(\"{\", \"\").replace(\"}\", \"\") for amenity in d.split(\",\")]).astype(str)\n",
    "bos_df['amenities'] = bos_df['amenities'].map(lambda d: [amenity.replace('\"', \"\").replace(\"{\", \"\").replace(\"}\", \"\") for amenity in d.split(\",\")]).astype(str)\n",
    "\n",
    "### seattle\n",
    "sea_df.amenities = sea_df.amenities.replace(\"['']\", \"['none']\")\n",
    "### boston\n",
    "bos_df.amenities = bos_df.amenities.replace(\"['']\", \"['none']\")\n",
    "## temporary dataframe before adding to sea_cat\n",
    "temp1 = pd.get_dummies(sea_df.amenities.map(literal_eval).apply(pd.Series).stack(), prefix='amenities').sum(level=0)\n",
    "## temporary dataframe before adding to bos_cat\n",
    "temp2 = pd.get_dummies(bos_df.amenities.map(literal_eval).apply(pd.Series).stack(), prefix='amenities').sum(level=0)\n",
    "### unify column width and order\n",
    "cols = ['amenities_Free Parking on Street',\n",
    "        'amenities_Paid Parking Off Premises',\n",
    "        'amenities_translation missing: en.hosting_amenity_49',\n",
    "        'amenities_translation missing: en.hosting_amenity_50']\n",
    "for col in cols:\n",
    "    temp1[col] = 0\n",
    "temp2.columns = temp1.columns\n",
    "## concatenate dummy variable dataframes\n",
    "sea_cat = pd.concat([sea_cat, temp1], axis=1)\n",
    "bos_cat = pd.concat([bos_cat, temp2], axis=1)\n",
    "## drop amenities from sea_df, bos_df\n",
    "sea_df = sea_df.drop(columns=['amenities'])\n",
    "bos_df = bos_df.drop(columns=['amenities'])"
   ]
  },
  {
   "cell_type": "markdown",
   "metadata": {},
   "source": [
    "### Processing numerical variables - Standardization"
   ]
  },
  {
   "cell_type": "markdown",
   "metadata": {},
   "source": [
    "Let us standardize predictors except for 'id', 'host_id', 'zipcode', 'price'"
   ]
  },
  {
   "cell_type": "code",
   "execution_count": 20,
   "metadata": {},
   "outputs": [],
   "source": [
    "## Retrieve numerical features\n",
    "sea_num_no_std = sea_df.select_dtypes(include=[int, float]).drop(columns=['id', 'host_id', 'price'])\n",
    "bos_num_no_std = bos_df.select_dtypes(include=[int, float]).drop(columns=['id', 'host_id', 'price'])\n",
    "\n",
    "## make copy\n",
    "sea_num = sea_num_no_std.copy()\n",
    "bos_num = bos_num_no_std.copy()\n",
    "\n",
    "## standardizing them\n",
    "scaler = StandardScaler()\n",
    "sea_num[sea_num.columns] = scaler.fit_transform(sea_num_no_std)\n",
    "bos_num[bos_num.columns] = scaler.fit_transform(bos_num_no_std)"
   ]
  },
  {
   "cell_type": "markdown",
   "metadata": {},
   "source": [
    "### Processing categorical variables"
   ]
  },
  {
   "cell_type": "code",
   "execution_count": 21,
   "metadata": {},
   "outputs": [],
   "source": [
    "# Processing categorical variables\n",
    "sea_cat_2 = sea_df.select_dtypes(include=[object]).drop(columns=['zipcode'])\n",
    "bos_cat_2 = bos_df.select_dtypes(include=[object]).drop(columns=['zipcode'])"
   ]
  },
  {
   "cell_type": "code",
   "execution_count": 22,
   "metadata": {},
   "outputs": [
    {
     "data": {
      "text/plain": [
       "host_is_superhost                    2\n",
       "bed_type                             5\n",
       "calendar_updated                    34\n",
       "instant_bookable                     2\n",
       "cancellation_policy                  3\n",
       "require_guest_profile_picture        2\n",
       "require_guest_phone_verification     2\n",
       "dtype: int64"
      ]
     },
     "execution_count": 22,
     "metadata": {},
     "output_type": "execute_result"
    }
   ],
   "source": [
    "sea_cat_2.nunique()"
   ]
  },
  {
   "cell_type": "code",
   "execution_count": 23,
   "metadata": {},
   "outputs": [
    {
     "data": {
      "text/plain": [
       "host_is_superhost                    2\n",
       "bed_type                             5\n",
       "calendar_updated                    38\n",
       "instant_bookable                     2\n",
       "cancellation_policy                  4\n",
       "require_guest_profile_picture        2\n",
       "require_guest_phone_verification     2\n",
       "dtype: int64"
      ]
     },
     "execution_count": 23,
     "metadata": {},
     "output_type": "execute_result"
    }
   ],
   "source": [
    "bos_cat_2.nunique()"
   ]
  },
  {
   "cell_type": "markdown",
   "metadata": {},
   "source": [
    "calender_updated, cancellation_policy are different"
   ]
  },
  {
   "cell_type": "code",
   "execution_count": 24,
   "metadata": {},
   "outputs": [],
   "source": [
    "## get dummy variables for categoricals\n",
    "bos_cat_2 = pd.get_dummies(bos_cat_2)\n",
    "sea_cat_2 = pd.get_dummies(sea_cat_2)\n",
    "\n",
    "## make column width same\n",
    "for col in set(bos_cat_2.columns) - set(sea_cat_2.columns):\n",
    "    sea_cat_2[col] = 0\n",
    "    \n",
    "## make column order same\n",
    "sea_cat_2.columns = bos_cat_2.columns\n",
    "\n",
    "## merge all categorical dataframes\n",
    "sea_cat = pd.concat([sea_cat, sea_cat_2], axis=1)\n",
    "bos_cat = pd.concat([bos_cat, bos_cat_2], axis=1)"
   ]
  },
  {
   "cell_type": "code",
   "execution_count": 25,
   "metadata": {},
   "outputs": [],
   "source": [
    "## putting it all together (df, num, cat)\n",
    "sea_df = pd.concat([sea_df[['id', 'host_id', 'zipcode', 'price']], sea_num, sea_cat], axis=1)\n",
    "bos_df = pd.concat([bos_df[['id', 'host_id', 'zipcode', 'price']], bos_num, bos_cat], axis=1)\n",
    "\n",
    "## for EDA, getting not standardized numericals\n",
    "sea_df_nostd = pd.concat([sea_df[['id', 'host_id', 'zipcode', 'price']], sea_num_no_std, sea_cat], axis=1)\n",
    "bos_df_nostd = pd.concat([bos_df[['id', 'host_id', 'zipcode', 'price']], bos_num_no_std, bos_cat], axis=1)"
   ]
  },
  {
   "cell_type": "code",
   "execution_count": 26,
   "metadata": {},
   "outputs": [
    {
     "data": {
      "text/html": [
       "<div>\n",
       "<style scoped>\n",
       "    .dataframe tbody tr th:only-of-type {\n",
       "        vertical-align: middle;\n",
       "    }\n",
       "\n",
       "    .dataframe tbody tr th {\n",
       "        vertical-align: top;\n",
       "    }\n",
       "\n",
       "    .dataframe thead th {\n",
       "        text-align: right;\n",
       "    }\n",
       "</style>\n",
       "<table border=\"1\" class=\"dataframe\">\n",
       "  <thead>\n",
       "    <tr style=\"text-align: right;\">\n",
       "      <th></th>\n",
       "      <th>id</th>\n",
       "      <th>host_id</th>\n",
       "      <th>zipcode</th>\n",
       "      <th>price</th>\n",
       "      <th>bathrooms</th>\n",
       "      <th>bedrooms</th>\n",
       "      <th>beds</th>\n",
       "      <th>guests_included</th>\n",
       "      <th>extra_people</th>\n",
       "      <th>minimum_nights</th>\n",
       "      <th>...</th>\n",
       "      <th>instant_bookable_f</th>\n",
       "      <th>instant_bookable_t</th>\n",
       "      <th>cancellation_policy_flexible</th>\n",
       "      <th>cancellation_policy_moderate</th>\n",
       "      <th>cancellation_policy_strict</th>\n",
       "      <th>cancellation_policy_super_strict_30</th>\n",
       "      <th>require_guest_profile_picture_f</th>\n",
       "      <th>require_guest_profile_picture_t</th>\n",
       "      <th>require_guest_phone_verification_f</th>\n",
       "      <th>require_guest_phone_verification_t</th>\n",
       "    </tr>\n",
       "  </thead>\n",
       "  <tbody>\n",
       "    <tr>\n",
       "      <th>0</th>\n",
       "      <td>241032</td>\n",
       "      <td>956883</td>\n",
       "      <td>98119</td>\n",
       "      <td>85.0</td>\n",
       "      <td>-0.438461</td>\n",
       "      <td>-0.348068</td>\n",
       "      <td>-0.645342</td>\n",
       "      <td>0.249756</td>\n",
       "      <td>-0.322324</td>\n",
       "      <td>-0.083987</td>\n",
       "      <td>...</td>\n",
       "      <td>0</td>\n",
       "      <td>1</td>\n",
       "      <td>0</td>\n",
       "      <td>1</td>\n",
       "      <td>0</td>\n",
       "      <td>0</td>\n",
       "      <td>0</td>\n",
       "      <td>0</td>\n",
       "      <td>0</td>\n",
       "      <td>0</td>\n",
       "    </tr>\n",
       "    <tr>\n",
       "      <th>1</th>\n",
       "      <td>953595</td>\n",
       "      <td>5177328</td>\n",
       "      <td>98119</td>\n",
       "      <td>150.0</td>\n",
       "      <td>-0.438461</td>\n",
       "      <td>-0.348068</td>\n",
       "      <td>-0.645342</td>\n",
       "      <td>-0.513098</td>\n",
       "      <td>-0.606680</td>\n",
       "      <td>-0.022651</td>\n",
       "      <td>...</td>\n",
       "      <td>1</td>\n",
       "      <td>0</td>\n",
       "      <td>1</td>\n",
       "      <td>0</td>\n",
       "      <td>1</td>\n",
       "      <td>0</td>\n",
       "      <td>0</td>\n",
       "      <td>0</td>\n",
       "      <td>0</td>\n",
       "      <td>0</td>\n",
       "    </tr>\n",
       "    <tr>\n",
       "      <th>2</th>\n",
       "      <td>3308979</td>\n",
       "      <td>16708587</td>\n",
       "      <td>98119</td>\n",
       "      <td>975.0</td>\n",
       "      <td>5.500872</td>\n",
       "      <td>4.183643</td>\n",
       "      <td>4.621311</td>\n",
       "      <td>6.352583</td>\n",
       "      <td>0.815098</td>\n",
       "      <td>0.100020</td>\n",
       "      <td>...</td>\n",
       "      <td>1</td>\n",
       "      <td>1</td>\n",
       "      <td>0</td>\n",
       "      <td>1</td>\n",
       "      <td>0</td>\n",
       "      <td>0</td>\n",
       "      <td>0</td>\n",
       "      <td>0</td>\n",
       "      <td>0</td>\n",
       "      <td>0</td>\n",
       "    </tr>\n",
       "  </tbody>\n",
       "</table>\n",
       "<p>3 rows × 133 columns</p>\n",
       "</div>"
      ],
      "text/plain": [
       "        id   host_id zipcode  price  bathrooms  bedrooms      beds  \\\n",
       "0   241032    956883   98119   85.0  -0.438461 -0.348068 -0.645342   \n",
       "1   953595   5177328   98119  150.0  -0.438461 -0.348068 -0.645342   \n",
       "2  3308979  16708587   98119  975.0   5.500872  4.183643  4.621311   \n",
       "\n",
       "   guests_included  extra_people  minimum_nights  \\\n",
       "0         0.249756     -0.322324       -0.083987   \n",
       "1        -0.513098     -0.606680       -0.022651   \n",
       "2         6.352583      0.815098        0.100020   \n",
       "\n",
       "                  ...                  instant_bookable_f  instant_bookable_t  \\\n",
       "0                 ...                                   0                   1   \n",
       "1                 ...                                   1                   0   \n",
       "2                 ...                                   1                   1   \n",
       "\n",
       "   cancellation_policy_flexible  cancellation_policy_moderate  \\\n",
       "0                             0                             1   \n",
       "1                             1                             0   \n",
       "2                             0                             1   \n",
       "\n",
       "   cancellation_policy_strict  cancellation_policy_super_strict_30  \\\n",
       "0                           0                                    0   \n",
       "1                           1                                    0   \n",
       "2                           0                                    0   \n",
       "\n",
       "   require_guest_profile_picture_f  require_guest_profile_picture_t  \\\n",
       "0                                0                                0   \n",
       "1                                0                                0   \n",
       "2                                0                                0   \n",
       "\n",
       "   require_guest_phone_verification_f  require_guest_phone_verification_t  \n",
       "0                                   0                                   0  \n",
       "1                                   0                                   0  \n",
       "2                                   0                                   0  \n",
       "\n",
       "[3 rows x 133 columns]"
      ]
     },
     "execution_count": 26,
     "metadata": {},
     "output_type": "execute_result"
    }
   ],
   "source": [
    "sea_df.head(3)"
   ]
  },
  {
   "cell_type": "code",
   "execution_count": 27,
   "metadata": {},
   "outputs": [],
   "source": [
    "## *** you can do all procedures above with this one line \n",
    "\n",
    "# sea_df, bos_df, sea_df_nostd, bos_df_nostd = preprocessor()"
   ]
  },
  {
   "cell_type": "markdown",
   "metadata": {},
   "source": [
    "## Q1. Is there a difference in price in two cities?"
   ]
  },
  {
   "cell_type": "code",
   "execution_count": 28,
   "metadata": {
    "scrolled": true
   },
   "outputs": [
    {
     "data": {
      "text/plain": [
       "Text(0.5,0,'Price')"
      ]
     },
     "execution_count": 28,
     "metadata": {},
     "output_type": "execute_result"
    },
    {
     "data": {
      "image/png": "[encoded data removed]",
      "text/plain": [
       "<Figure size 864x288 with 2 Axes>"
      ]
     },
     "metadata": {
      "needs_background": "light"
     },
     "output_type": "display_data"
    }
   ],
   "source": [
    "sea_price = sea_df_nostd.price.copy()\n",
    "bos_price = bos_df_nostd.price.copy()\n",
    "\n",
    "fig, (ax1, ax2) = plt.subplots(1, 2, figsize=(12, 4))\n",
    "sea_price.hist(bins=30, color='blue', alpha=0.4, ax=ax1)\n",
    "bos_price.hist(bins=40, color='red', alpha=0.4, ax=ax2)\n",
    "sns.despine(top=True, right=True, left=True)\n",
    "\n",
    "ax1.set_title('Seattle Price')\n",
    "ax2.set_title('Boston Price')\n",
    "ax1.set_ylabel('Frequency')\n",
    "ax1.set_xlabel('Price')\n",
    "ax2.set_xlabel('Price')"
   ]
  },
  {
   "cell_type": "markdown",
   "metadata": {},
   "source": [
    "Due to the scale issue, it is hard to compare two distributions. Therefore, let us transform price to log-price"
   ]
  },
  {
   "cell_type": "code",
   "execution_count": 29,
   "metadata": {},
   "outputs": [
    {
     "data": {
      "image/png": "[encoded data removed]",
      "text/plain": [
       "<Figure size 864x288 with 2 Axes>"
      ]
     },
     "metadata": {
      "needs_background": "light"
     },
     "output_type": "display_data"
    }
   ],
   "source": [
    "## Transform price to log-price\n",
    "sea_price = sea_price.map(lambda x: np.log(x))\n",
    "bos_price = bos_price.map(lambda x: np.log(x))\n",
    "\n",
    "## Visualize again\n",
    "fig, (ax1, ax2) = plt.subplots(1, 2, figsize=(12, 4))\n",
    "sea_price.hist(bins=30, color='blue', alpha=0.4, ax=ax1)\n",
    "bos_price.hist(bins=40, color='red', alpha=0.4, ax=ax2)\n",
    "sns.despine(top=True, right=True, left=True)\n",
    "\n",
    "ax1.set_title('Seattle Log-price')\n",
    "ax2.set_title('Boston Log-price')\n",
    "ax1.set_ylabel('Frequency')\n",
    "ax1.set_xlabel('log( Price )')\n",
    "ax2.set_xlabel('log( Price )');"
   ]
  },
  {
   "cell_type": "code",
   "execution_count": 30,
   "metadata": {},
   "outputs": [
    {
     "data": {
      "text/html": [
       "<div>\n",
       "<style scoped>\n",
       "    .dataframe tbody tr th:only-of-type {\n",
       "        vertical-align: middle;\n",
       "    }\n",
       "\n",
       "    .dataframe tbody tr th {\n",
       "        vertical-align: top;\n",
       "    }\n",
       "\n",
       "    .dataframe thead th {\n",
       "        text-align: right;\n",
       "    }\n",
       "</style>\n",
       "<table border=\"1\" class=\"dataframe\">\n",
       "  <thead>\n",
       "    <tr style=\"text-align: right;\">\n",
       "      <th></th>\n",
       "      <th>Seattle log-price</th>\n",
       "      <th>Boston log-price</th>\n",
       "    </tr>\n",
       "  </thead>\n",
       "  <tbody>\n",
       "    <tr>\n",
       "      <th>count</th>\n",
       "      <td>3818.000000</td>\n",
       "      <td>3585.000000</td>\n",
       "    </tr>\n",
       "    <tr>\n",
       "      <th>mean</th>\n",
       "      <td>4.679227</td>\n",
       "      <td>4.940808</td>\n",
       "    </tr>\n",
       "    <tr>\n",
       "      <th>std</th>\n",
       "      <td>0.565525</td>\n",
       "      <td>0.652393</td>\n",
       "    </tr>\n",
       "    <tr>\n",
       "      <th>min</th>\n",
       "      <td>2.995732</td>\n",
       "      <td>2.302585</td>\n",
       "    </tr>\n",
       "    <tr>\n",
       "      <th>25%</th>\n",
       "      <td>4.317488</td>\n",
       "      <td>4.442651</td>\n",
       "    </tr>\n",
       "    <tr>\n",
       "      <th>50%</th>\n",
       "      <td>4.605170</td>\n",
       "      <td>5.010635</td>\n",
       "    </tr>\n",
       "    <tr>\n",
       "      <th>75%</th>\n",
       "      <td>5.010635</td>\n",
       "      <td>5.393628</td>\n",
       "    </tr>\n",
       "    <tr>\n",
       "      <th>max</th>\n",
       "      <td>6.907755</td>\n",
       "      <td>8.294050</td>\n",
       "    </tr>\n",
       "  </tbody>\n",
       "</table>\n",
       "</div>"
      ],
      "text/plain": [
       "       Seattle log-price  Boston log-price\n",
       "count        3818.000000       3585.000000\n",
       "mean            4.679227          4.940808\n",
       "std             0.565525          0.652393\n",
       "min             2.995732          2.302585\n",
       "25%             4.317488          4.442651\n",
       "50%             4.605170          5.010635\n",
       "75%             5.010635          5.393628\n",
       "max             6.907755          8.294050"
      ]
     },
     "execution_count": 30,
     "metadata": {},
     "output_type": "execute_result"
    }
   ],
   "source": [
    "## display statistics\n",
    "_ = pd.concat([sea_price.describe(), bos_price.describe()], axis=1)\n",
    "_.columns = ['Seattle log-price', 'Boston log-price']\n",
    "_"
   ]
  },
  {
   "cell_type": "markdown",
   "metadata": {},
   "source": [
    "We can observe that Boston price is in general higher and is more spread out. Seattle log-price distribution shows symetric aspect while Boston log-price distribution seems slightly left skewed implying that Boston rental price is formed high. According to [trulia], this results corresponds to median rent per month. On average, Boston's median rent per month now is formed around \\\\$2,900  and on contrary, Seattle's is around \\\\$2,700. Therefore, this results should come as no surprise. However, what is interesting is that medians sales price shows the opposite trend in two cities: median sales price of real estate is on average \\\\$690,000 in Seattle, and is \\\\$610,000 in Boston. Using the concept of price to rent ratio, we achieve 17.53 for Boston and 21.30 for Seattle. As a general rule of thumb, if the ratio is from 16 to 20, then it is risky to buy a property and if it is 21+, it is much better to rent than buy. Therefore, it seems Boston is more promising place to buy a house. \n",
    "\n",
    "[trulia]: https://www.trulia.com/"
   ]
  },
  {
   "cell_type": "markdown",
   "metadata": {},
   "source": [
    "## Q2. How many Airbnb properties are hosted by the same host on average?"
   ]
  },
  {
   "cell_type": "code",
   "execution_count": 31,
   "metadata": {},
   "outputs": [
    {
     "data": {
      "image/png": "[encoded data removed]",
      "text/plain": [
       "<Figure size 576x432 with 1 Axes>"
      ]
     },
     "metadata": {
      "needs_background": "light"
     },
     "output_type": "display_data"
    }
   ],
   "source": [
    "## seattle\n",
    "sea_host = sea_df_nostd.groupby('host_id').count()['id']\n",
    "sea_host.name = 'property_count'\n",
    "## boston\n",
    "bos_host = bos_df_nostd.groupby('host_id').count()['id']\n",
    "bos_host.name = 'property_count'\n",
    "\n",
    "## Visualization\n",
    "plt.figure(figsize=(8, 6))\n",
    "ax = plt.subplot()\n",
    "ax.bar(['Seattle', 'Boston'], [sea_host.mean(), bos_host.mean()], color=['blue', 'red'], alpha=0.4)\n",
    "sns.despine(top=True, right=True, left=True)\n",
    "ax.xaxis.grid(False)\n",
    "plt.title(\"Average property # owned by a host\", fontsize=16)\n",
    "plt.ylabel('Count (mean)');"
   ]
  },
  {
   "cell_type": "code",
   "execution_count": 32,
   "metadata": {},
   "outputs": [
    {
     "data": {
      "image/png": "[encoded data removed]",
      "text/plain": [
       "<Figure size 864x576 with 2 Axes>"
      ]
     },
     "metadata": {
      "needs_background": "light"
     },
     "output_type": "display_data"
    }
   ],
   "source": [
    "fig = plt.figure(figsize=(12,8))\n",
    "ax = sns.distplot(sea_host, color='blue', hist_kws={'alpha':0.4}, kde_kws={'alpha':0.4})\n",
    "plt.title('Seattle: # of properties owned by a host', fontsize=16)\n",
    "plt.ylabel('Frequency')\n",
    "sns.despine(top=True, right=True, left=True)\n",
    "\n",
    "## set inner plot\n",
    "rect = [0.35, 0.27, 0.52, 0.52]\n",
    "ax2 = fig.add_axes(rect)\n",
    "sns.distplot(sea_host[sea_host>5], bins=40, ax=ax2, kde=False, color='blue', kde_kws={'alpha':0.4})\n",
    "ax2.set_title(\" > 5 properties\")\n",
    "ax2.set_xlabel('');"
   ]
  },
  {
   "cell_type": "code",
   "execution_count": 33,
   "metadata": {},
   "outputs": [
    {
     "data": {
      "image/png": "[encoded data removed]",
      "text/plain": [
       "<Figure size 864x576 with 2 Axes>"
      ]
     },
     "metadata": {
      "needs_background": "light"
     },
     "output_type": "display_data"
    }
   ],
   "source": [
    "fig = plt.figure(figsize=(12,8))\n",
    "ax = sns.distplot(bos_host, color='red', hist_kws={'alpha':0.4}, kde_kws={'alpha':0.4})\n",
    "plt.title('Boston: # of properties owned by a host', fontsize=16)\n",
    "plt.ylabel('Frequency')\n",
    "sns.despine(top=True, right=True, left=True)\n",
    "\n",
    "## set inner plot\n",
    "rect = [0.35, 0.27, 0.52, 0.52]\n",
    "ax2 = fig.add_axes(rect)\n",
    "sns.distplot(bos_host[bos_host>5], bins=40, ax=ax2, kde=False, color='red', kde_kws={'alpha':0.4})\n",
    "ax2.set_title(\" > 5 properties\")\n",
    "ax2.set_xlabel('');\n"
   ]
  },
  {
   "cell_type": "markdown",
   "metadata": {},
   "source": [
    "We see that on average, host in Boston owns more Airbnb properties. This might imply that fewer hosts determines the price of Airbnb properties. Looking at individual distributions, we can confirm that there are more 'super' hosts in Boston. Therefore, we can suppose those \"super\" users set Airbnb prices higher in Boston."
   ]
  },
  {
   "cell_type": "markdown",
   "metadata": {},
   "source": [
    "## Q3. How does price spread based on location - is it evenly distributed or unevenly? \n",
    "I will use 'zipcode' as a proxy for location information."
   ]
  },
  {
   "cell_type": "code",
   "execution_count": 34,
   "metadata": {},
   "outputs": [
    {
     "name": "stdout",
     "output_type": "stream",
     "text": [
      "Standard Deviation is: 0.030\n"
     ]
    },
    {
     "data": {
      "image/png": "[encoded data removed]",
      "text/plain": [
       "<Figure size 864x576 with 1 Axes>"
      ]
     },
     "metadata": {
      "needs_background": "light"
     },
     "output_type": "display_data"
    }
   ],
   "source": [
    "sea_zip = pd.DataFrame(sea_df_nostd.groupby('zipcode').count()['id'])\n",
    "sea_zip = sea_zip.reset_index()\n",
    "sea_zip.columns = ['zipcode', 'proportion']\n",
    "sea_zip['proportion'] /= len(sea_df)\n",
    "\n",
    "## visualize it\n",
    "fig = plt.figure(figsize=(12,8))\n",
    "ax = sns.barplot(x='zipcode', y='proportion', data=sea_zip, color='blue', alpha=0.4)\n",
    "plt.xticks(rotation=90)\n",
    "plt.title(\"Seattle location distribution\", fontsize=16)\n",
    "sns.despine(top=True, right=True, left=True)\n",
    "\n",
    "print(\"Standard Deviation is: {:.3f}\".format(sea_zip.proportion.std()))"
   ]
  },
  {
   "cell_type": "code",
   "execution_count": 35,
   "metadata": {},
   "outputs": [
    {
     "name": "stdout",
     "output_type": "stream",
     "text": [
      "Standard Deviation is: 0.028\n"
     ]
    },
    {
     "data": {
      "image/png": "[encoded data removed]",
      "text/plain": [
       "<Figure size 864x576 with 1 Axes>"
      ]
     },
     "metadata": {
      "needs_background": "light"
     },
     "output_type": "display_data"
    }
   ],
   "source": [
    "bos_zip = pd.DataFrame(bos_df_nostd.groupby('zipcode').count()['id'])\n",
    "bos_zip = bos_zip.reset_index()\n",
    "bos_zip.columns = ['zipcode', 'proportion']\n",
    "bos_zip['proportion'] /= len(bos_df)\n",
    "\n",
    "## visualize it\n",
    "fig = plt.figure(figsize=(12,8))\n",
    "ax = sns.barplot(x='zipcode', y='proportion', data=bos_zip, color='red', alpha=0.4)\n",
    "plt.xticks(rotation=90)\n",
    "plt.title(\"Boston location distribution\", fontsize=16)\n",
    "sns.despine(top=True, right=True, left=True)\n",
    "\n",
    "print(\"Standard Deviation is: {:.3f}\".format(bos_zip.proportion.std()))"
   ]
  },
  {
   "cell_type": "markdown",
   "metadata": {},
   "source": [
    "When is comes to degree of the spread, the location distributions of two cities do not show much difference according to standard deviation. When we compare the distributions against rent maps (below) at [trulia], high proportion locations corresponds to high rent areas; therefore have higher impact on price distribution.\n",
    "\n",
    "All in all, we can conclude that most Airbnb properties are crowded at hotspots of the cities.\n",
    "\n",
    "\n",
    "[trulia]: https://www.trulia.com/"
   ]
  },
  {
   "cell_type": "code",
   "execution_count": 36,
   "metadata": {},
   "outputs": [
    {
     "data": {
      "text/html": [
       "<table><tr><td><figure><img src=\"data/image/seattle_rent.png\" style=\"height:400px\" align=\"right\"><figcaption> (Seattle rent heatmap) </figcaption></figure></td><td><figure><img src=\"data/image/boston_rent.png\" style=\"height:400px\" align=\"left\"><figcaption> (Boston rent heatmap)</figcaption></figure></td></tr></table>"
      ],
      "text/plain": [
       "<IPython.core.display.HTML object>"
      ]
     },
     "metadata": {},
     "output_type": "display_data"
    }
   ],
   "source": [
    "display(HTML('<table><tr><td><figure><img src=\"data/image/seattle_rent.png\" style=\"height:400px\" align=\"right\"><figcaption> (Seattle rent heatmap) </figcaption></figure></td><td><figure><img src=\"data/image/boston_rent.png\" style=\"height:400px\" align=\"left\"><figcaption> (Boston rent heatmap)</figcaption></figure></td></tr></table>'))"
   ]
  },
  {
   "cell_type": "markdown",
   "metadata": {},
   "source": [
    "# 4. Model Data"
   ]
  },
  {
   "cell_type": "code",
   "execution_count": null,
   "metadata": {},
   "outputs": [],
   "source": []
  }
 ],
 "metadata": {
  "kernelspec": {
   "display_name": "Python 3",
   "language": "python",
   "name": "python3"
  },
  "language_info": {
   "codemirror_mode": {
    "name": "ipython",
    "version": 3
   },
   "file_extension": ".py",
   "mimetype": "text/x-python",
   "name": "python",
   "nbconvert_exporter": "python",
   "pygments_lexer": "ipython3",
   "version": "3.6.6"
  }
 },
 "nbformat": 4,
 "nbformat_minor": 2
}
